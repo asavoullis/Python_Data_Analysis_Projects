{
 "cells": [
  {
   "attachments": {},
   "cell_type": "markdown",
   "metadata": {},
   "source": [
    "# Python for Beginners: Data Structures\n",
    "\n",
    "## Learning Objectives:\n",
    "- Identify Python Lists\n",
    "- Recognize and Work with Python Sets and Tuples\n",
    "- Create a Dictionary and Modify Elements\n",
    "- Practice task - Filtering list of dictionaries.\n",
    "- Manipulate Data for Analysis\n",
    "- Use Python Methods to Visualize Data\n",
    "- Challenge: Food Recommendation"
   ]
  },
  {
   "attachments": {},
   "cell_type": "markdown",
   "metadata": {},
   "source": [
    "\n",
    "\n",
    "## Introduction\n",
    "\n",
    "In this course, we will be discussing the four most important data structures in Python:\n",
    "- Lists \n",
    "- Tuples\n",
    "- Sets\n",
    "- Dictionaries\n"
   ]
  },
  {
   "attachments": {},
   "cell_type": "markdown",
   "metadata": {},
   "source": [
    "## Task 1\n",
    "### Lists\n",
    "A list is a collection of items in a particular order. \n",
    "\n",
    "Lists are mutable, which means you can add, remove, or modify items after the list has been created.\n",
    "\n",
    "Let's define a list of integers"
   ]
  },
  {
   "cell_type": "code",
   "execution_count": 2,
   "metadata": {},
   "outputs": [
    {
     "name": "stdout",
     "output_type": "stream",
     "text": [
      "[12, 5, 3, 9, 10]\n"
     ]
    }
   ],
   "source": [
    "numbers = [12, 5, 3, 9 ,10] \n",
    "print(numbers)"
   ]
  },
  {
   "cell_type": "code",
   "execution_count": 3,
   "metadata": {},
   "outputs": [
    {
     "data": {
      "text/plain": [
       "[12, 10.5, 'John']"
      ]
     },
     "execution_count": 3,
     "metadata": {},
     "output_type": "execute_result"
    }
   ],
   "source": [
    "# Lists can have mixed data types\n",
    "\n",
    "mixed_list = [12, 10.5, \"John\"]\n",
    "mixed_list"
   ]
  },
  {
   "cell_type": "code",
   "execution_count": 4,
   "metadata": {},
   "outputs": [
    {
     "data": {
      "text/plain": [
       "['apple', 'banana', 'cherry']"
      ]
     },
     "execution_count": 4,
     "metadata": {},
     "output_type": "execute_result"
    }
   ],
   "source": [
    "fruits = [\"apple\", \"banana\", \"cherry\"]\n",
    "fruits"
   ]
  },
  {
   "attachments": {},
   "cell_type": "markdown",
   "metadata": {},
   "source": [
    "Accesing an element in the list"
   ]
  },
  {
   "cell_type": "code",
   "execution_count": 5,
   "metadata": {},
   "outputs": [
    {
     "data": {
      "text/plain": [
       "'banana'"
      ]
     },
     "execution_count": 5,
     "metadata": {},
     "output_type": "execute_result"
    }
   ],
   "source": [
    "fruits[1]"
   ]
  },
  {
   "attachments": {},
   "cell_type": "markdown",
   "metadata": {},
   "source": [
    "List Slicing"
   ]
  },
  {
   "cell_type": "code",
   "execution_count": 6,
   "metadata": {},
   "outputs": [
    {
     "data": {
      "text/plain": [
       "['apple']"
      ]
     },
     "execution_count": 6,
     "metadata": {},
     "output_type": "execute_result"
    }
   ],
   "source": [
    "# from first element but not the 2nd\n",
    "fruits[0:1]"
   ]
  },
  {
   "cell_type": "code",
   "execution_count": 7,
   "metadata": {},
   "outputs": [
    {
     "data": {
      "text/plain": [
       "['apple', 'banana', 'cherry']"
      ]
     },
     "execution_count": 7,
     "metadata": {},
     "output_type": "execute_result"
    }
   ],
   "source": [
    "# give me all 1 step at at time\n",
    "fruits[::1]"
   ]
  },
  {
   "cell_type": "code",
   "execution_count": 8,
   "metadata": {},
   "outputs": [
    {
     "data": {
      "text/plain": [
       "['apple']"
      ]
     },
     "execution_count": 8,
     "metadata": {},
     "output_type": "execute_result"
    }
   ],
   "source": [
    "# from the begining until the 2nd element exclusive\n",
    "fruits[:1]"
   ]
  },
  {
   "cell_type": "code",
   "execution_count": 9,
   "metadata": {},
   "outputs": [
    {
     "data": {
      "text/plain": [
       "['apple', 'banana']"
      ]
     },
     "execution_count": 9,
     "metadata": {},
     "output_type": "execute_result"
    }
   ],
   "source": [
    "fruits[0:2]"
   ]
  },
  {
   "cell_type": "code",
   "execution_count": 10,
   "metadata": {},
   "outputs": [
    {
     "data": {
      "text/plain": [
       "3"
      ]
     },
     "execution_count": 10,
     "metadata": {},
     "output_type": "execute_result"
    }
   ],
   "source": [
    "len(fruits)"
   ]
  },
  {
   "attachments": {},
   "cell_type": "markdown",
   "metadata": {},
   "source": [
    "Adding element to the list"
   ]
  },
  {
   "cell_type": "code",
   "execution_count": 11,
   "metadata": {},
   "outputs": [],
   "source": [
    "# adds it to the end always\n",
    "fruits.append(\"orange\")"
   ]
  },
  {
   "cell_type": "code",
   "execution_count": 12,
   "metadata": {},
   "outputs": [
    {
     "data": {
      "text/plain": [
       "['apple', 'banana', 'cherry', 'orange']"
      ]
     },
     "execution_count": 12,
     "metadata": {},
     "output_type": "execute_result"
    }
   ],
   "source": [
    "fruits"
   ]
  },
  {
   "attachments": {},
   "cell_type": "markdown",
   "metadata": {},
   "source": [
    "insert gets 2 arguments: position to be placed, element to be inserted"
   ]
  },
  {
   "cell_type": "code",
   "execution_count": 13,
   "metadata": {},
   "outputs": [],
   "source": [
    "fruits.insert(2,\"waterlemon\")"
   ]
  },
  {
   "cell_type": "code",
   "execution_count": 14,
   "metadata": {},
   "outputs": [
    {
     "data": {
      "text/plain": [
       "['apple', 'banana', 'waterlemon', 'cherry', 'orange']"
      ]
     },
     "execution_count": 14,
     "metadata": {},
     "output_type": "execute_result"
    }
   ],
   "source": [
    "fruits"
   ]
  },
  {
   "attachments": {},
   "cell_type": "markdown",
   "metadata": {},
   "source": [
    "Add a list to another list (at the end of the first list)"
   ]
  },
  {
   "cell_type": "code",
   "execution_count": 15,
   "metadata": {},
   "outputs": [
    {
     "data": {
      "text/plain": [
       "['apple', 'banana', 'waterlemon', 'cherry', 'orange', 'lemon', 'mango']"
      ]
     },
     "execution_count": 15,
     "metadata": {},
     "output_type": "execute_result"
    }
   ],
   "source": [
    "fruits2 = [\"lemon\", \"mango\"]\n",
    "fruits.extend(fruits2)\n",
    "fruits"
   ]
  },
  {
   "attachments": {},
   "cell_type": "markdown",
   "metadata": {},
   "source": [
    "Counting the number of occurrences of an item"
   ]
  },
  {
   "cell_type": "code",
   "execution_count": 16,
   "metadata": {},
   "outputs": [
    {
     "data": {
      "text/plain": [
       "1"
      ]
     },
     "execution_count": 16,
     "metadata": {},
     "output_type": "execute_result"
    }
   ],
   "source": [
    "fruits.count('lemon')"
   ]
  },
  {
   "attachments": {},
   "cell_type": "markdown",
   "metadata": {},
   "source": [
    "Remove an element from the list"
   ]
  },
  {
   "cell_type": "code",
   "execution_count": 17,
   "metadata": {},
   "outputs": [
    {
     "data": {
      "text/plain": [
       "['apple', 'banana', 'waterlemon', 'cherry', 'orange', 'mango']"
      ]
     },
     "execution_count": 17,
     "metadata": {},
     "output_type": "execute_result"
    }
   ],
   "source": [
    "fruits.remove('lemon')\n",
    "fruits"
   ]
  },
  {
   "attachments": {},
   "cell_type": "markdown",
   "metadata": {},
   "source": [
    "Exercise: Create a list of your favourite movies and print the list. Then, add one more movie to the list and print the updated list."
   ]
  },
  {
   "cell_type": "code",
   "execution_count": 18,
   "metadata": {},
   "outputs": [
    {
     "data": {
      "text/plain": [
       "['Star Wars', 'Die Hard', 'John Wick', 'Harry Potter']"
      ]
     },
     "execution_count": 18,
     "metadata": {},
     "output_type": "execute_result"
    }
   ],
   "source": [
    "movies = [\"Star Wars\", \"Die Hard\", \"John Wick\"]\n",
    "movies.append(\"Harry Potter\")\n",
    "movies"
   ]
  },
  {
   "attachments": {},
   "cell_type": "markdown",
   "metadata": {},
   "source": [
    "Sorting a list"
   ]
  },
  {
   "cell_type": "code",
   "execution_count": 19,
   "metadata": {},
   "outputs": [
    {
     "data": {
      "text/plain": [
       "['apple', 'banana', 'waterlemon', 'cherry', 'orange', 'mango']"
      ]
     },
     "execution_count": 19,
     "metadata": {},
     "output_type": "execute_result"
    }
   ],
   "source": [
    "fruits"
   ]
  },
  {
   "cell_type": "code",
   "execution_count": 20,
   "metadata": {},
   "outputs": [
    {
     "data": {
      "text/plain": [
       "['apple', 'banana', 'cherry', 'mango', 'orange', 'waterlemon']"
      ]
     },
     "execution_count": 20,
     "metadata": {},
     "output_type": "execute_result"
    }
   ],
   "source": [
    "# sorts them alphabetically\n",
    "fruits.sort()\n",
    "fruits"
   ]
  },
  {
   "cell_type": "code",
   "execution_count": 21,
   "metadata": {},
   "outputs": [
    {
     "data": {
      "text/plain": [
       "[12, 5, 3, 9, 10]"
      ]
     },
     "execution_count": 21,
     "metadata": {},
     "output_type": "execute_result"
    }
   ],
   "source": [
    "numbers"
   ]
  },
  {
   "cell_type": "code",
   "execution_count": 22,
   "metadata": {},
   "outputs": [
    {
     "data": {
      "text/plain": [
       "[3, 5, 9, 10, 12]"
      ]
     },
     "execution_count": 22,
     "metadata": {},
     "output_type": "execute_result"
    }
   ],
   "source": [
    "numbers.sort()\n",
    "numbers"
   ]
  },
  {
   "attachments": {},
   "cell_type": "markdown",
   "metadata": {},
   "source": [
    "Empty a list"
   ]
  },
  {
   "cell_type": "code",
   "execution_count": 23,
   "metadata": {},
   "outputs": [
    {
     "data": {
      "text/plain": [
       "[]"
      ]
     },
     "execution_count": 23,
     "metadata": {},
     "output_type": "execute_result"
    }
   ],
   "source": [
    "numbers.clear()\n",
    "numbers"
   ]
  },
  {
   "attachments": {},
   "cell_type": "markdown",
   "metadata": {},
   "source": [
    "### List of Lists\n",
    "\n",
    "Lists can contain other lists, creating what is known as lists of lists. \n",
    "\n",
    "This is a useful way of representing two-dimensional arrays, tables, matrices."
   ]
  },
  {
   "cell_type": "code",
   "execution_count": 24,
   "metadata": {},
   "outputs": [
    {
     "data": {
      "text/plain": [
       "[[1, 2, 3], [4, 5, 6], [7, 8, 9]]"
      ]
     },
     "execution_count": 24,
     "metadata": {},
     "output_type": "execute_result"
    }
   ],
   "source": [
    "matrix = [[1,2,3,],[4,5,6],[7,8,9]]\n",
    "matrix"
   ]
  },
  {
   "cell_type": "code",
   "execution_count": 25,
   "metadata": {},
   "outputs": [
    {
     "data": {
      "text/plain": [
       "[1, 2, 3]"
      ]
     },
     "execution_count": 25,
     "metadata": {},
     "output_type": "execute_result"
    }
   ],
   "source": [
    "matrix[0]"
   ]
  },
  {
   "cell_type": "code",
   "execution_count": 26,
   "metadata": {},
   "outputs": [
    {
     "data": {
      "text/plain": [
       "2"
      ]
     },
     "execution_count": 26,
     "metadata": {},
     "output_type": "execute_result"
    }
   ],
   "source": [
    "matrix[0][1]"
   ]
  },
  {
   "attachments": {},
   "cell_type": "markdown",
   "metadata": {},
   "source": [
    "### Task 2 \n",
    "\n",
    "Tuples\n",
    "\n",
    "A Tuple is similar to a list but it is immutable.\n",
    "\n",
    "Meaning once you create a Tuple, you cannot change its elements."
   ]
  },
  {
   "cell_type": "code",
   "execution_count": 27,
   "metadata": {},
   "outputs": [],
   "source": [
    "numbers_tuple = (1,2,3)"
   ]
  },
  {
   "cell_type": "code",
   "execution_count": 28,
   "metadata": {},
   "outputs": [
    {
     "data": {
      "text/plain": [
       "3"
      ]
     },
     "execution_count": 28,
     "metadata": {},
     "output_type": "execute_result"
    }
   ],
   "source": [
    "len(numbers_tuple)"
   ]
  },
  {
   "attachments": {},
   "cell_type": "markdown",
   "metadata": {},
   "source": [
    "Addint 2 tuples together"
   ]
  },
  {
   "cell_type": "code",
   "execution_count": 29,
   "metadata": {},
   "outputs": [
    {
     "data": {
      "text/plain": [
       "(1, 2, 3, 4, 5, 6)"
      ]
     },
     "execution_count": 29,
     "metadata": {},
     "output_type": "execute_result"
    }
   ],
   "source": [
    "numbers2_tuple = (4,5,6)\n",
    "numbers_tuple + numbers2_tuple"
   ]
  },
  {
   "attachments": {},
   "cell_type": "markdown",
   "metadata": {},
   "source": [
    "Repetition of Tuple"
   ]
  },
  {
   "cell_type": "code",
   "execution_count": 30,
   "metadata": {},
   "outputs": [
    {
     "data": {
      "text/plain": [
       "(4, 5, 6, 4, 5, 6)"
      ]
     },
     "execution_count": 30,
     "metadata": {},
     "output_type": "execute_result"
    }
   ],
   "source": [
    "numbers2_tuple * 2"
   ]
  },
  {
   "attachments": {},
   "cell_type": "markdown",
   "metadata": {},
   "source": [
    "Finding index of an item in tuple"
   ]
  },
  {
   "cell_type": "code",
   "execution_count": 31,
   "metadata": {},
   "outputs": [
    {
     "data": {
      "text/plain": [
       "0"
      ]
     },
     "execution_count": 31,
     "metadata": {},
     "output_type": "execute_result"
    }
   ],
   "source": [
    "numbers2_tuple.index(4)"
   ]
  },
  {
   "attachments": {},
   "cell_type": "markdown",
   "metadata": {},
   "source": [
    "Counting the number of occurences of item"
   ]
  },
  {
   "cell_type": "code",
   "execution_count": 32,
   "metadata": {},
   "outputs": [
    {
     "data": {
      "text/plain": [
       "1"
      ]
     },
     "execution_count": 32,
     "metadata": {},
     "output_type": "execute_result"
    }
   ],
   "source": [
    "numbers2_tuple.count(5)"
   ]
  },
  {
   "attachments": {},
   "cell_type": "markdown",
   "metadata": {},
   "source": [
    "## Sets\n",
    "\n",
    "A set is a collection of unique items/elements without any specific order.\n",
    "\n",
    "Sets are useful when you need to store unique values and peform operations like union, intersection, difference, etc."
   ]
  },
  {
   "cell_type": "code",
   "execution_count": 33,
   "metadata": {},
   "outputs": [
    {
     "data": {
      "text/plain": [
       "{1, 2, 3, 4, 5, 6}"
      ]
     },
     "execution_count": 33,
     "metadata": {},
     "output_type": "execute_result"
    }
   ],
   "source": [
    "set1 = {1,2,3,4,5,6}\n",
    "set1"
   ]
  },
  {
   "attachments": {},
   "cell_type": "markdown",
   "metadata": {},
   "source": [
    "Finding the union of 2 sets\n",
    "\n",
    "notice that 6 will not be included twice in the union"
   ]
  },
  {
   "cell_type": "code",
   "execution_count": 34,
   "metadata": {},
   "outputs": [
    {
     "data": {
      "text/plain": [
       "{1, 2, 3, 4, 5, 6, 7, 8, 9}"
      ]
     },
     "execution_count": 34,
     "metadata": {},
     "output_type": "execute_result"
    }
   ],
   "source": [
    "set2 = {6,7,8,9}\n",
    "set1 | set2"
   ]
  },
  {
   "attachments": {},
   "cell_type": "markdown",
   "metadata": {},
   "source": [
    "Intersection of sets"
   ]
  },
  {
   "cell_type": "code",
   "execution_count": 35,
   "metadata": {},
   "outputs": [
    {
     "data": {
      "text/plain": [
       "{6}"
      ]
     },
     "execution_count": 35,
     "metadata": {},
     "output_type": "execute_result"
    }
   ],
   "source": [
    "set1 & set2"
   ]
  },
  {
   "attachments": {},
   "cell_type": "markdown",
   "metadata": {},
   "source": [
    "Difference of 2 sets"
   ]
  },
  {
   "cell_type": "code",
   "execution_count": 36,
   "metadata": {},
   "outputs": [
    {
     "data": {
      "text/plain": [
       "{1, 2, 3, 4, 5}"
      ]
     },
     "execution_count": 36,
     "metadata": {},
     "output_type": "execute_result"
    }
   ],
   "source": [
    "set1 - set2"
   ]
  },
  {
   "attachments": {},
   "cell_type": "markdown",
   "metadata": {},
   "source": [
    "Adding item to set"
   ]
  },
  {
   "cell_type": "code",
   "execution_count": 37,
   "metadata": {},
   "outputs": [],
   "source": [
    "set2.add(10)"
   ]
  },
  {
   "cell_type": "code",
   "execution_count": 38,
   "metadata": {},
   "outputs": [
    {
     "data": {
      "text/plain": [
       "{6, 7, 8, 9, 10}"
      ]
     },
     "execution_count": 38,
     "metadata": {},
     "output_type": "execute_result"
    }
   ],
   "source": [
    "set2"
   ]
  },
  {
   "cell_type": "code",
   "execution_count": 39,
   "metadata": {},
   "outputs": [],
   "source": [
    "set2.remove(9)"
   ]
  },
  {
   "cell_type": "code",
   "execution_count": 40,
   "metadata": {},
   "outputs": [
    {
     "data": {
      "text/plain": [
       "{6, 7, 8, 10}"
      ]
     },
     "execution_count": 40,
     "metadata": {},
     "output_type": "execute_result"
    }
   ],
   "source": [
    "set2"
   ]
  },
  {
   "attachments": {},
   "cell_type": "markdown",
   "metadata": {},
   "source": [
    "Check if an element is in the set"
   ]
  },
  {
   "cell_type": "code",
   "execution_count": 41,
   "metadata": {},
   "outputs": [
    {
     "data": {
      "text/plain": [
       "True"
      ]
     },
     "execution_count": 41,
     "metadata": {},
     "output_type": "execute_result"
    }
   ],
   "source": [
    "10 in set2"
   ]
  },
  {
   "cell_type": "code",
   "execution_count": 42,
   "metadata": {},
   "outputs": [
    {
     "name": "stdout",
     "output_type": "stream",
     "text": [
      "True\n"
     ]
    }
   ],
   "source": [
    "if 10 in set2:\n",
    "    print(True)"
   ]
  },
  {
   "attachments": {},
   "cell_type": "markdown",
   "metadata": {},
   "source": [
    "## Dictionaries\n",
    "\n",
    "A dictinary is a collection of key and value pairs, where each key is unique."
   ]
  },
  {
   "attachments": {},
   "cell_type": "markdown",
   "metadata": {},
   "source": [
    "Create a dictionary"
   ]
  },
  {
   "cell_type": "code",
   "execution_count": 43,
   "metadata": {},
   "outputs": [
    {
     "data": {
      "text/plain": [
       "{'key1': 'value1', 'key2': 'value2', 'key3': 10}"
      ]
     },
     "execution_count": 43,
     "metadata": {},
     "output_type": "execute_result"
    }
   ],
   "source": [
    "a = {\"key1\": \"value1\", \"key2\": \"value2\", \"key3\": 10}\n",
    "a"
   ]
  },
  {
   "cell_type": "code",
   "execution_count": 44,
   "metadata": {},
   "outputs": [
    {
     "data": {
      "text/plain": [
       "{'name': 'John', 'age': '24', 'city': 'New York'}"
      ]
     },
     "execution_count": 44,
     "metadata": {},
     "output_type": "execute_result"
    }
   ],
   "source": [
    "person ={\"name\":\"John\",\"age\":\"24\",\"city\":\"New York\"}\n",
    "person"
   ]
  },
  {
   "attachments": {},
   "cell_type": "markdown",
   "metadata": {},
   "source": [
    "Accessing a value in the dictionary"
   ]
  },
  {
   "cell_type": "code",
   "execution_count": 45,
   "metadata": {},
   "outputs": [
    {
     "name": "stdout",
     "output_type": "stream",
     "text": [
      "yes\n"
     ]
    }
   ],
   "source": [
    "if \"age\" in person:\n",
    "    print(\"yes\")\n",
    "else:\n",
    "    print(\"no\")"
   ]
  },
  {
   "cell_type": "code",
   "execution_count": 46,
   "metadata": {},
   "outputs": [
    {
     "data": {
      "text/plain": [
       "True"
      ]
     },
     "execution_count": 46,
     "metadata": {},
     "output_type": "execute_result"
    }
   ],
   "source": [
    "\"age\" in person"
   ]
  },
  {
   "cell_type": "code",
   "execution_count": 47,
   "metadata": {},
   "outputs": [
    {
     "data": {
      "text/plain": [
       "True"
      ]
     },
     "execution_count": 47,
     "metadata": {},
     "output_type": "execute_result"
    }
   ],
   "source": [
    "\"city\" in person"
   ]
  },
  {
   "cell_type": "code",
   "execution_count": 48,
   "metadata": {},
   "outputs": [
    {
     "data": {
      "text/plain": [
       "dict_keys(['name', 'age', 'city'])"
      ]
     },
     "execution_count": 48,
     "metadata": {},
     "output_type": "execute_result"
    }
   ],
   "source": [
    "person.keys()"
   ]
  },
  {
   "cell_type": "code",
   "execution_count": 49,
   "metadata": {},
   "outputs": [
    {
     "data": {
      "text/plain": [
       "dict_values(['John', '24', 'New York'])"
      ]
     },
     "execution_count": 49,
     "metadata": {},
     "output_type": "execute_result"
    }
   ],
   "source": [
    "person.values()"
   ]
  },
  {
   "cell_type": "code",
   "execution_count": 50,
   "metadata": {},
   "outputs": [
    {
     "name": "stdout",
     "output_type": "stream",
     "text": [
      "name\n",
      "age\n",
      "city\n"
     ]
    }
   ],
   "source": [
    "for key in person.keys():\n",
    "    print(key)"
   ]
  },
  {
   "cell_type": "code",
   "execution_count": 51,
   "metadata": {},
   "outputs": [
    {
     "name": "stdout",
     "output_type": "stream",
     "text": [
      "John\n",
      "24\n",
      "New York\n"
     ]
    }
   ],
   "source": [
    "for value in person.values():\n",
    "    print(value)"
   ]
  },
  {
   "cell_type": "code",
   "execution_count": 52,
   "metadata": {},
   "outputs": [
    {
     "name": "stdout",
     "output_type": "stream",
     "text": [
      "John\n",
      "24\n",
      "New York\n"
     ]
    }
   ],
   "source": [
    "for key in person:\n",
    "    value = person[key]\n",
    "    print(value)"
   ]
  },
  {
   "cell_type": "code",
   "execution_count": 53,
   "metadata": {},
   "outputs": [
    {
     "name": "stdout",
     "output_type": "stream",
     "text": [
      "name: John\n",
      "age: 24\n",
      "city: New York\n"
     ]
    }
   ],
   "source": [
    "for key, value in person.items():\n",
    "    print(f\"{key}: {value}\")"
   ]
  },
  {
   "attachments": {},
   "cell_type": "markdown",
   "metadata": {},
   "source": [
    "Updating a value in dictionary"
   ]
  },
  {
   "cell_type": "code",
   "execution_count": 54,
   "metadata": {},
   "outputs": [
    {
     "data": {
      "text/plain": [
       "{'name': 'John', 'age': 26, 'city': 'New York'}"
      ]
     },
     "execution_count": 54,
     "metadata": {},
     "output_type": "execute_result"
    }
   ],
   "source": [
    "person[\"age\"] = 26\n",
    "person"
   ]
  },
  {
   "attachments": {},
   "cell_type": "markdown",
   "metadata": {},
   "source": [
    "Adding a new key-value pair to the dictionary"
   ]
  },
  {
   "cell_type": "code",
   "execution_count": 55,
   "metadata": {},
   "outputs": [
    {
     "data": {
      "text/plain": [
       "{'name': 'John', 'age': 26, 'city': 'New York', 'email': 'john@example.com'}"
      ]
     },
     "execution_count": 55,
     "metadata": {},
     "output_type": "execute_result"
    }
   ],
   "source": [
    "person[\"email\"] =\"john@example.com\"\n",
    "person\n"
   ]
  },
  {
   "cell_type": "code",
   "execution_count": 56,
   "metadata": {},
   "outputs": [
    {
     "data": {
      "text/plain": [
       "{'name': 'John', 'city': 'New York', 'email': 'john@example.com'}"
      ]
     },
     "execution_count": 56,
     "metadata": {},
     "output_type": "execute_result"
    }
   ],
   "source": [
    "del person[\"age\"]\n",
    "person"
   ]
  },
  {
   "attachments": {},
   "cell_type": "markdown",
   "metadata": {},
   "source": [
    "Get all key-value pairs from dictionary"
   ]
  },
  {
   "cell_type": "code",
   "execution_count": 57,
   "metadata": {},
   "outputs": [
    {
     "data": {
      "text/plain": [
       "dict_items([('name', 'John'), ('city', 'New York'), ('email', 'john@example.com')])"
      ]
     },
     "execution_count": 57,
     "metadata": {},
     "output_type": "execute_result"
    }
   ],
   "source": [
    "person.items()"
   ]
  },
  {
   "attachments": {},
   "cell_type": "markdown",
   "metadata": {},
   "source": [
    "## Practise activity: Filtering a list of dictionaries\n",
    "\n",
    "In this practice, we will write a Python program that reads in a list of dictionaries representing people's names and ages, find the person age based on the name, and filters out people who are under 18 years old. This exercise will help you practice working with Python data structures, specifically lists and dictionaries.\n",
    "\n",
    "\n",
    "We have the following list of dictionaries: "
   ]
  },
  {
   "attachments": {},
   "cell_type": "markdown",
   "metadata": {},
   "source": []
  },
  {
   "cell_type": "code",
   "execution_count": 58,
   "metadata": {},
   "outputs": [
    {
     "data": {
      "text/plain": [
       "[{'name': 'Alice', 'age': 25},\n",
       " {'name': 'Bob', 'age': 18},\n",
       " {'name': 'Charlie', 'age': 30},\n",
       " {'name': 'David', 'age': 16},\n",
       " {'name': 'Todd', 'age': 36},\n",
       " {'name': 'Johanna', 'age': 32},\n",
       " {'name': 'Alex', 'age': 45},\n",
       " {'name': 'Jake', 'age': 32}]"
      ]
     },
     "execution_count": 58,
     "metadata": {},
     "output_type": "execute_result"
    }
   ],
   "source": [
    "people = [    \n",
    "    {   \n",
    "        \"name\": \"Alice\",\n",
    "        \"age\": 25\n",
    "    },\n",
    "    {\n",
    "        \"name\": \"Bob\",\n",
    "        \"age\": 18\n",
    "    },\n",
    "    {\n",
    "        \"name\": \"Charlie\",\n",
    "        \"age\": 30\n",
    "    },\n",
    "    {\n",
    "        \"name\": \"David\",\n",
    "        \"age\": 16\n",
    "    },\n",
    "    {\n",
    "        \"name\": \"Todd\",\n",
    "        \"age\": 36\n",
    "    },\n",
    "    {\n",
    "        \"name\": \"Johanna\",\n",
    "        \"age\": 32\n",
    "    },\n",
    "    {\n",
    "        \"name\": \"Alex\",\n",
    "        \"age\": 45\n",
    "    },\n",
    "    {\n",
    "        \"name\": \"Jake\",\n",
    "        \"age\": 32\n",
    "    }\n",
    "]\n",
    "people\n"
   ]
  },
  {
   "attachments": {},
   "cell_type": "markdown",
   "metadata": {},
   "source": [
    "\n",
    "Write a Python function that takes in the list of dictionaries and returns a new list that includes only people who are over 18 years old."
   ]
  },
  {
   "cell_type": "code",
   "execution_count": 59,
   "metadata": {},
   "outputs": [
    {
     "data": {
      "text/plain": [
       "[{'name': 'Alice', 'age': 25},\n",
       " {'name': 'Bob', 'age': 18},\n",
       " {'name': 'Charlie', 'age': 30},\n",
       " {'name': 'Todd', 'age': 36},\n",
       " {'name': 'Johanna', 'age': 32},\n",
       " {'name': 'Alex', 'age': 45},\n",
       " {'name': 'Jake', 'age': 32}]"
      ]
     },
     "execution_count": 59,
     "metadata": {},
     "output_type": "execute_result"
    }
   ],
   "source": [
    "def filter_people(people):\n",
    "    filter_people = []\n",
    "    for person in people:\n",
    "        if person[\"age\"] >= 18:\n",
    "            filter_people.append(person)\n",
    "    return filter_people\n",
    "\n",
    "filter_people(people)"
   ]
  },
  {
   "attachments": {},
   "cell_type": "markdown",
   "metadata": {},
   "source": [
    "Write a Python function that takes a name return the age of the person."
   ]
  },
  {
   "cell_type": "code",
   "execution_count": 60,
   "metadata": {},
   "outputs": [
    {
     "name": "stdout",
     "output_type": "stream",
     "text": [
      "45\n"
     ]
    }
   ],
   "source": [
    "def age_of_person(name):\n",
    "    for person in people:\n",
    "        if person[\"name\"] == name:\n",
    "            return person[\"age\"]\n",
    "\n",
    "print(age_of_person(\"Alex\"))"
   ]
  },
  {
   "attachments": {},
   "cell_type": "markdown",
   "metadata": {},
   "source": [
    "Run both functions on the original list of people and print the results."
   ]
  },
  {
   "cell_type": "code",
   "execution_count": 61,
   "metadata": {},
   "outputs": [
    {
     "data": {
      "text/plain": [
       "[{'name': 'Alice', 'age': 25},\n",
       " {'name': 'Bob', 'age': 18},\n",
       " {'name': 'Charlie', 'age': 30},\n",
       " {'name': 'Todd', 'age': 36},\n",
       " {'name': 'Johanna', 'age': 32},\n",
       " {'name': 'Alex', 'age': 45},\n",
       " {'name': 'Jake', 'age': 32}]"
      ]
     },
     "execution_count": 61,
     "metadata": {},
     "output_type": "execute_result"
    }
   ],
   "source": [
    "filter_people(people=people)"
   ]
  },
  {
   "cell_type": "code",
   "execution_count": 62,
   "metadata": {},
   "outputs": [
    {
     "data": {
      "text/plain": [
       "32"
      ]
     },
     "execution_count": 62,
     "metadata": {},
     "output_type": "execute_result"
    }
   ],
   "source": [
    "age_of_person(\"Jake\")"
   ]
  },
  {
   "attachments": {},
   "cell_type": "markdown",
   "metadata": {},
   "source": [
    "## Task 4 \n",
    "\n",
    "### Student Performance Analysis\n",
    "Imagine you're a school teacher and you want to keep track of your students' grades. You can create a list of dictionaries, where each dictionary represents a student. "
   ]
  },
  {
   "cell_type": "code",
   "execution_count": 63,
   "metadata": {},
   "outputs": [
    {
     "data": {
      "text/plain": [
       "[{'name': 'Alice',\n",
       "  'grades': [95, 92, 88],\n",
       "  'address': ('123 Main St.', 'San Francisco', 'CA', '94105'),\n",
       "  'courses': ['Math', 'Science', 'History']},\n",
       " {'name': 'Bob',\n",
       "  'grades': [80, 85, 82],\n",
       "  'address': ('456 Oak Ave.', 'Oakland', 'CA', '94610'),\n",
       "  'courses': ['English', 'Art', 'Music']},\n",
       " {'name': 'Charlie',\n",
       "  'grades': [90, 92, 96],\n",
       "  'address': ('789 Maple Blvd.', 'San Jose', 'CA', '95110'),\n",
       "  'courses': ['History', 'Geography', 'Economics']},\n",
       " {'name': 'David',\n",
       "  'grades': [75, 87, 83],\n",
       "  'address': ('246 Elm St.', 'San Francisco', 'CA', '94107'),\n",
       "  'courses': ['Physics', 'Chemistry', 'Biology']},\n",
       " {'name': 'Emily',\n",
       "  'grades': [97, 94, 91],\n",
       "  'address': ('135 Pine Ave.', 'Oakland', 'CA', '94611'),\n",
       "  'courses': ['English', 'History', 'Literature']},\n",
       " {'name': 'Frank',\n",
       "  'grades': [88, 90, 86],\n",
       "  'address': ('369 Cedar Blvd.', 'San Jose', 'CA', '95112'),\n",
       "  'courses': ['Math', 'Computer Science', 'Physics']},\n",
       " {'name': 'Grace',\n",
       "  'grades': [93, 95, 92],\n",
       "  'address': ('159 Maple St.', 'San Francisco', 'CA', '94108'),\n",
       "  'courses': ['History', 'Geography', 'Social Studies']},\n",
       " {'name': 'Henry',\n",
       "  'grades': [85, 84, 82],\n",
       "  'address': ('753 Oak St.', 'Oakland', 'CA', '94612'),\n",
       "  'courses': ['Music', 'Art', 'Theater']},\n",
       " {'name': 'Isabelle',\n",
       "  'grades': [96, 97, 98],\n",
       "  'address': ('924 Cedar Ave.', 'San Jose', 'CA', '95113'),\n",
       "  'courses': ['Math', 'Science', 'Engineering']},\n",
       " {'name': 'Jack',\n",
       "  'grades': [89, 91, 87],\n",
       "  'address': ('731 Elm St.', 'San Francisco', 'CA', '94109'),\n",
       "  'courses': ['Literature', 'English', 'Philosophy']}]"
      ]
     },
     "execution_count": 63,
     "metadata": {},
     "output_type": "execute_result"
    }
   ],
   "source": [
    "students = [    \n",
    "    {   \n",
    "        \"name\": \"Alice\",\n",
    "        \"grades\": [95, 92, 88],\n",
    "        \"address\": (\"123 Main St.\", \"San Francisco\", \"CA\", \"94105\"),\n",
    "        \"courses\": [\"Math\", \"Science\", \"History\"]\n",
    "    },\n",
    "    {\n",
    "        \"name\": \"Bob\",\n",
    "        \"grades\": [80, 85, 82],\n",
    "        \"address\": (\"456 Oak Ave.\", \"Oakland\", \"CA\", \"94610\"),\n",
    "        \"courses\": [\"English\", \"Art\", \"Music\"]\n",
    "    },\n",
    "    {\n",
    "        \"name\": \"Charlie\",\n",
    "        \"grades\": [90, 92, 96],\n",
    "        \"address\": (\"789 Maple Blvd.\", \"San Jose\", \"CA\", \"95110\"),\n",
    "        \"courses\": [\"History\", \"Geography\", \"Economics\"]\n",
    "    },\n",
    "    {\n",
    "        \"name\": \"David\",\n",
    "        \"grades\": [75, 87, 83],\n",
    "        \"address\": (\"246 Elm St.\", \"San Francisco\", \"CA\", \"94107\"),\n",
    "        \"courses\": [\"Physics\", \"Chemistry\", \"Biology\"]\n",
    "    },\n",
    "    {\n",
    "        \"name\": \"Emily\",\n",
    "        \"grades\": [97, 94, 91],\n",
    "        \"address\": (\"135 Pine Ave.\", \"Oakland\", \"CA\", \"94611\"),\n",
    "        \"courses\": [\"English\", \"History\", \"Literature\"]\n",
    "    },\n",
    "    {\n",
    "        \"name\": \"Frank\",\n",
    "        \"grades\": [88, 90, 86],\n",
    "        \"address\": (\"369 Cedar Blvd.\", \"San Jose\", \"CA\", \"95112\"),\n",
    "        \"courses\": [\"Math\", \"Computer Science\", \"Physics\"]\n",
    "    },\n",
    "    {\n",
    "        \"name\": \"Grace\",\n",
    "        \"grades\": [93, 95, 92],\n",
    "        \"address\": (\"159 Maple St.\", \"San Francisco\", \"CA\", \"94108\"),\n",
    "        \"courses\": [\"History\", \"Geography\", \"Social Studies\"]\n",
    "    },\n",
    "    {\n",
    "        \"name\": \"Henry\",\n",
    "        \"grades\": [85, 84, 82],\n",
    "        \"address\": (\"753 Oak St.\", \"Oakland\", \"CA\", \"94612\"),\n",
    "        \"courses\": [\"Music\", \"Art\", \"Theater\"]\n",
    "    },\n",
    "    {\n",
    "        \"name\": \"Isabelle\",\n",
    "        \"grades\": [96, 97, 98],\n",
    "        \"address\": (\"924 Cedar Ave.\", \"San Jose\", \"CA\", \"95113\"),\n",
    "        \"courses\": [\"Math\", \"Science\", \"Engineering\"]\n",
    "    },\n",
    "    {\n",
    "        \"name\": \"Jack\",\n",
    "        \"grades\": [89, 91, 87],\n",
    "        \"address\": (\"731 Elm St.\", \"San Francisco\", \"CA\", \"94109\"),\n",
    "        \"courses\": [\"Literature\", \"English\", \"Philosophy\"]\n",
    "    }\n",
    "]\n",
    "students\n"
   ]
  },
  {
   "attachments": {},
   "cell_type": "markdown",
   "metadata": {},
   "source": [
    "Let's add a new key-value to each student item to store their average grade."
   ]
  },
  {
   "cell_type": "code",
   "execution_count": 64,
   "metadata": {},
   "outputs": [
    {
     "data": {
      "text/plain": [
       "[95, 92, 88]"
      ]
     },
     "execution_count": 64,
     "metadata": {},
     "output_type": "execute_result"
    }
   ],
   "source": [
    "students[0][\"grades\"]"
   ]
  },
  {
   "cell_type": "code",
   "execution_count": 65,
   "metadata": {},
   "outputs": [
    {
     "data": {
      "text/plain": [
       "91.66666666666667"
      ]
     },
     "execution_count": 65,
     "metadata": {},
     "output_type": "execute_result"
    }
   ],
   "source": [
    "sum(students[0][\"grades\"])/3"
   ]
  },
  {
   "cell_type": "code",
   "execution_count": 66,
   "metadata": {},
   "outputs": [
    {
     "data": {
      "text/plain": [
       "92"
      ]
     },
     "execution_count": 66,
     "metadata": {},
     "output_type": "execute_result"
    }
   ],
   "source": [
    "round(sum(students[0][\"grades\"])/3)"
   ]
  },
  {
   "cell_type": "code",
   "execution_count": 67,
   "metadata": {},
   "outputs": [
    {
     "name": "stdout",
     "output_type": "stream",
     "text": [
      "3\n"
     ]
    }
   ],
   "source": [
    "alice_grades_count = len(students[0][\"grades\"])\n",
    "print(alice_grades_count)"
   ]
  },
  {
   "cell_type": "code",
   "execution_count": 68,
   "metadata": {},
   "outputs": [
    {
     "data": {
      "text/plain": [
       "[{'name': 'Alice',\n",
       "  'grades': [95, 92, 88],\n",
       "  'address': ('123 Main St.', 'San Francisco', 'CA', '94105'),\n",
       "  'courses': ['Math', 'Science', 'History'],\n",
       "  'average_grade': 92},\n",
       " {'name': 'Bob',\n",
       "  'grades': [80, 85, 82],\n",
       "  'address': ('456 Oak Ave.', 'Oakland', 'CA', '94610'),\n",
       "  'courses': ['English', 'Art', 'Music'],\n",
       "  'average_grade': 82},\n",
       " {'name': 'Charlie',\n",
       "  'grades': [90, 92, 96],\n",
       "  'address': ('789 Maple Blvd.', 'San Jose', 'CA', '95110'),\n",
       "  'courses': ['History', 'Geography', 'Economics'],\n",
       "  'average_grade': 93},\n",
       " {'name': 'David',\n",
       "  'grades': [75, 87, 83],\n",
       "  'address': ('246 Elm St.', 'San Francisco', 'CA', '94107'),\n",
       "  'courses': ['Physics', 'Chemistry', 'Biology'],\n",
       "  'average_grade': 82},\n",
       " {'name': 'Emily',\n",
       "  'grades': [97, 94, 91],\n",
       "  'address': ('135 Pine Ave.', 'Oakland', 'CA', '94611'),\n",
       "  'courses': ['English', 'History', 'Literature'],\n",
       "  'average_grade': 94},\n",
       " {'name': 'Frank',\n",
       "  'grades': [88, 90, 86],\n",
       "  'address': ('369 Cedar Blvd.', 'San Jose', 'CA', '95112'),\n",
       "  'courses': ['Math', 'Computer Science', 'Physics'],\n",
       "  'average_grade': 88},\n",
       " {'name': 'Grace',\n",
       "  'grades': [93, 95, 92],\n",
       "  'address': ('159 Maple St.', 'San Francisco', 'CA', '94108'),\n",
       "  'courses': ['History', 'Geography', 'Social Studies'],\n",
       "  'average_grade': 93},\n",
       " {'name': 'Henry',\n",
       "  'grades': [85, 84, 82],\n",
       "  'address': ('753 Oak St.', 'Oakland', 'CA', '94612'),\n",
       "  'courses': ['Music', 'Art', 'Theater'],\n",
       "  'average_grade': 84},\n",
       " {'name': 'Isabelle',\n",
       "  'grades': [96, 97, 98],\n",
       "  'address': ('924 Cedar Ave.', 'San Jose', 'CA', '95113'),\n",
       "  'courses': ['Math', 'Science', 'Engineering'],\n",
       "  'average_grade': 97},\n",
       " {'name': 'Jack',\n",
       "  'grades': [89, 91, 87],\n",
       "  'address': ('731 Elm St.', 'San Francisco', 'CA', '94109'),\n",
       "  'courses': ['Literature', 'English', 'Philosophy'],\n",
       "  'average_grade': 89}]"
      ]
     },
     "execution_count": 68,
     "metadata": {},
     "output_type": "execute_result"
    }
   ],
   "source": [
    "\n",
    "for student in students:\n",
    "    student[\"average_grade\"] = round(sum(student[\"grades\"])/len(student[\"grades\"]))\n",
    "students"
   ]
  },
  {
   "attachments": {},
   "cell_type": "markdown",
   "metadata": {},
   "source": [
    "Exercise: Find the student with the highest average grade."
   ]
  },
  {
   "cell_type": "code",
   "execution_count": 69,
   "metadata": {},
   "outputs": [
    {
     "data": {
      "text/plain": [
       "'Isabelle'"
      ]
     },
     "execution_count": 69,
     "metadata": {},
     "output_type": "execute_result"
    }
   ],
   "source": [
    "def highest_average_grade(students):\n",
    "    temp = 0\n",
    "    for student in students:\n",
    "        if student[\"average_grade\"] > temp:\n",
    "            temp = student[\"average_grade\"]\n",
    "            student_name = student[\"name\"]\n",
    "    return student_name\n",
    "\n",
    "highest_average_grade(students)"
   ]
  },
  {
   "attachments": {},
   "cell_type": "markdown",
   "metadata": {},
   "source": [
    "Storing the courses and the grades in a dictionary"
   ]
  },
  {
   "cell_type": "code",
   "execution_count": 70,
   "metadata": {},
   "outputs": [
    {
     "data": {
      "text/plain": [
       "{'Math': 95, 'Science': 92, 'History': 88}"
      ]
     },
     "execution_count": 70,
     "metadata": {},
     "output_type": "execute_result"
    }
   ],
   "source": [
    "keys = students[0]['courses']\n",
    "values = students[0]['grades']\n",
    "dict(zip(keys,values))"
   ]
  },
  {
   "cell_type": "code",
   "execution_count": 71,
   "metadata": {},
   "outputs": [
    {
     "data": {
      "text/plain": [
       "[{'name': 'Alice',\n",
       "  'grades': [95, 92, 88],\n",
       "  'address': ('123 Main St.', 'San Francisco', 'CA', '94105'),\n",
       "  'courses': ['Math', 'Science', 'History'],\n",
       "  'average_grade': 92,\n",
       "  'course_grades': {'Math': 95, 'Science': 92, 'History': 88}},\n",
       " {'name': 'Bob',\n",
       "  'grades': [80, 85, 82],\n",
       "  'address': ('456 Oak Ave.', 'Oakland', 'CA', '94610'),\n",
       "  'courses': ['English', 'Art', 'Music'],\n",
       "  'average_grade': 82,\n",
       "  'course_grades': {'English': 80, 'Art': 85, 'Music': 82}},\n",
       " {'name': 'Charlie',\n",
       "  'grades': [90, 92, 96],\n",
       "  'address': ('789 Maple Blvd.', 'San Jose', 'CA', '95110'),\n",
       "  'courses': ['History', 'Geography', 'Economics'],\n",
       "  'average_grade': 93,\n",
       "  'course_grades': {'History': 90, 'Geography': 92, 'Economics': 96}},\n",
       " {'name': 'David',\n",
       "  'grades': [75, 87, 83],\n",
       "  'address': ('246 Elm St.', 'San Francisco', 'CA', '94107'),\n",
       "  'courses': ['Physics', 'Chemistry', 'Biology'],\n",
       "  'average_grade': 82,\n",
       "  'course_grades': {'Physics': 75, 'Chemistry': 87, 'Biology': 83}},\n",
       " {'name': 'Emily',\n",
       "  'grades': [97, 94, 91],\n",
       "  'address': ('135 Pine Ave.', 'Oakland', 'CA', '94611'),\n",
       "  'courses': ['English', 'History', 'Literature'],\n",
       "  'average_grade': 94,\n",
       "  'course_grades': {'English': 97, 'History': 94, 'Literature': 91}},\n",
       " {'name': 'Frank',\n",
       "  'grades': [88, 90, 86],\n",
       "  'address': ('369 Cedar Blvd.', 'San Jose', 'CA', '95112'),\n",
       "  'courses': ['Math', 'Computer Science', 'Physics'],\n",
       "  'average_grade': 88,\n",
       "  'course_grades': {'Math': 88, 'Computer Science': 90, 'Physics': 86}},\n",
       " {'name': 'Grace',\n",
       "  'grades': [93, 95, 92],\n",
       "  'address': ('159 Maple St.', 'San Francisco', 'CA', '94108'),\n",
       "  'courses': ['History', 'Geography', 'Social Studies'],\n",
       "  'average_grade': 93,\n",
       "  'course_grades': {'History': 93, 'Geography': 95, 'Social Studies': 92}},\n",
       " {'name': 'Henry',\n",
       "  'grades': [85, 84, 82],\n",
       "  'address': ('753 Oak St.', 'Oakland', 'CA', '94612'),\n",
       "  'courses': ['Music', 'Art', 'Theater'],\n",
       "  'average_grade': 84,\n",
       "  'course_grades': {'Music': 85, 'Art': 84, 'Theater': 82}},\n",
       " {'name': 'Isabelle',\n",
       "  'grades': [96, 97, 98],\n",
       "  'address': ('924 Cedar Ave.', 'San Jose', 'CA', '95113'),\n",
       "  'courses': ['Math', 'Science', 'Engineering'],\n",
       "  'average_grade': 97,\n",
       "  'course_grades': {'Math': 96, 'Science': 97, 'Engineering': 98}},\n",
       " {'name': 'Jack',\n",
       "  'grades': [89, 91, 87],\n",
       "  'address': ('731 Elm St.', 'San Francisco', 'CA', '94109'),\n",
       "  'courses': ['Literature', 'English', 'Philosophy'],\n",
       "  'average_grade': 89,\n",
       "  'course_grades': {'Literature': 89, 'English': 91, 'Philosophy': 87}}]"
      ]
     },
     "execution_count": 71,
     "metadata": {},
     "output_type": "execute_result"
    }
   ],
   "source": [
    "def course_grade(students):\n",
    "    for student in students:\n",
    "        keys = student['courses']\n",
    "        values = student['grades']\n",
    "        student['course_grades'] = dict(zip(keys, values))\n",
    "\n",
    "course_grade(students)\n",
    "students"
   ]
  },
  {
   "attachments": {},
   "cell_type": "markdown",
   "metadata": {},
   "source": [
    "Exercise: Create a list containing all the unique courses. "
   ]
  },
  {
   "cell_type": "code",
   "execution_count": 72,
   "metadata": {},
   "outputs": [
    {
     "data": {
      "text/plain": [
       "['Math',\n",
       " 'Science',\n",
       " 'History',\n",
       " 'English',\n",
       " 'Art',\n",
       " 'Music',\n",
       " 'Geography',\n",
       " 'Economics',\n",
       " 'Physics',\n",
       " 'Chemistry',\n",
       " 'Biology',\n",
       " 'Literature',\n",
       " 'Computer Science',\n",
       " 'Social Studies',\n",
       " 'Theater',\n",
       " 'Engineering',\n",
       " 'Philosophy']"
      ]
     },
     "execution_count": 72,
     "metadata": {},
     "output_type": "execute_result"
    }
   ],
   "source": [
    "def unique_courses(students):\n",
    "    set_of_courses = []\n",
    "    for student in students:\n",
    "        for course in student['courses']:\n",
    "            if course not in set_of_courses:\n",
    "                set_of_courses.append(course)\n",
    "    return set_of_courses\n",
    "\n",
    "unique_courses(students)"
   ]
  },
  {
   "cell_type": "code",
   "execution_count": 73,
   "metadata": {},
   "outputs": [
    {
     "data": {
      "text/plain": [
       "['Biology',\n",
       " 'Computer Science',\n",
       " 'Philosophy',\n",
       " 'History',\n",
       " 'Literature',\n",
       " 'Engineering',\n",
       " 'Science',\n",
       " 'Physics',\n",
       " 'Economics',\n",
       " 'Chemistry',\n",
       " 'English',\n",
       " 'Art',\n",
       " 'Math',\n",
       " 'Social Studies',\n",
       " 'Music',\n",
       " 'Geography',\n",
       " 'Theater']"
      ]
     },
     "execution_count": 73,
     "metadata": {},
     "output_type": "execute_result"
    }
   ],
   "source": [
    "def unique_courses2(students):\n",
    "    courses = []\n",
    "    for student in students:\n",
    "        courses.extend(student['courses'])\n",
    "    \n",
    "    # convert it first to set then back to list\n",
    "    courses = list(set(courses))\n",
    "    return courses\n",
    "\n",
    "unique_courses2(students)"
   ]
  },
  {
   "attachments": {},
   "cell_type": "markdown",
   "metadata": {},
   "source": [
    "### Task 5\n",
    "Find the number of students who are taking each course. Create a dictionary to store the results with the following format:\n",
    "\n",
    "`{\"Math\" : 4, \"English\":5, ...}`"
   ]
  },
  {
   "cell_type": "code",
   "execution_count": 74,
   "metadata": {},
   "outputs": [
    {
     "data": {
      "text/plain": [
       "['Biology',\n",
       " 'Computer Science',\n",
       " 'Philosophy',\n",
       " 'History',\n",
       " 'Literature',\n",
       " 'Engineering',\n",
       " 'Science',\n",
       " 'Physics',\n",
       " 'Economics',\n",
       " 'Chemistry',\n",
       " 'English',\n",
       " 'Art',\n",
       " 'Math',\n",
       " 'Social Studies',\n",
       " 'Music',\n",
       " 'Geography',\n",
       " 'Theater']"
      ]
     },
     "execution_count": 74,
     "metadata": {},
     "output_type": "execute_result"
    }
   ],
   "source": [
    "courses = unique_courses2(students)\n",
    "courses"
   ]
  },
  {
   "cell_type": "code",
   "execution_count": 75,
   "metadata": {},
   "outputs": [
    {
     "data": {
      "text/plain": [
       "[0, 0, 0, 0, 0, 0, 0, 0, 0, 0, 0, 0, 0, 0, 0, 0, 0]"
      ]
     },
     "execution_count": 75,
     "metadata": {},
     "output_type": "execute_result"
    }
   ],
   "source": [
    "# create a list of full of 0s \n",
    "counts = [0] * len(courses)\n",
    "counts"
   ]
  },
  {
   "cell_type": "code",
   "execution_count": 76,
   "metadata": {},
   "outputs": [
    {
     "data": {
      "text/plain": [
       "{'Biology': 0,\n",
       " 'Computer Science': 0,\n",
       " 'Philosophy': 0,\n",
       " 'History': 0,\n",
       " 'Literature': 0,\n",
       " 'Engineering': 0,\n",
       " 'Science': 0,\n",
       " 'Physics': 0,\n",
       " 'Economics': 0,\n",
       " 'Chemistry': 0,\n",
       " 'English': 0,\n",
       " 'Art': 0,\n",
       " 'Math': 0,\n",
       " 'Social Studies': 0,\n",
       " 'Music': 0,\n",
       " 'Geography': 0,\n",
       " 'Theater': 0}"
      ]
     },
     "execution_count": 76,
     "metadata": {},
     "output_type": "execute_result"
    }
   ],
   "source": [
    "course_count = dict(zip(courses,counts))\n",
    "course_count"
   ]
  },
  {
   "cell_type": "code",
   "execution_count": 78,
   "metadata": {},
   "outputs": [
    {
     "data": {
      "text/plain": [
       "{'Biology': 1,\n",
       " 'Computer Science': 1,\n",
       " 'Philosophy': 1,\n",
       " 'History': 4,\n",
       " 'Literature': 2,\n",
       " 'Engineering': 1,\n",
       " 'Science': 2,\n",
       " 'Physics': 2,\n",
       " 'Economics': 1,\n",
       " 'Chemistry': 1,\n",
       " 'English': 3,\n",
       " 'Art': 2,\n",
       " 'Math': 3,\n",
       " 'Social Studies': 1,\n",
       " 'Music': 2,\n",
       " 'Geography': 2,\n",
       " 'Theater': 1}"
      ]
     },
     "execution_count": 78,
     "metadata": {},
     "output_type": "execute_result"
    }
   ],
   "source": [
    "for student in students:\n",
    "    for course in student['courses']:\n",
    "        course_count[course] += 1\n",
    "\n",
    "course_count"
   ]
  },
  {
   "attachments": {},
   "cell_type": "markdown",
   "metadata": {},
   "source": [
    "Let's create a bar chart to analyze the results"
   ]
  },
  {
   "cell_type": "code",
   "execution_count": null,
   "metadata": {},
   "outputs": [],
   "source": [
    "import matplotlib.pyplot as plt"
   ]
  },
  {
   "cell_type": "code",
   "execution_count": 84,
   "metadata": {},
   "outputs": [
    {
     "data": {
      "image/png": "[encoded data removed]",
      "text/plain": [
       "<Figure size 432x288 with 1 Axes>"
      ]
     },
     "metadata": {
      "needs_background": "light"
     },
     "output_type": "display_data"
    }
   ],
   "source": [
    "plt.bar(course_count.keys(), course_count.values())\n",
    "plt.xlabel(\"Course Name\")\n",
    "plt.ylabel(\"Number of Students\")\n",
    "plt.title(\"Number of students in each course\")\n",
    "plt.xticks(rotation = 90)\n",
    "plt.show()"
   ]
  },
  {
   "attachments": {},
   "cell_type": "markdown",
   "metadata": {},
   "source": [
    "Exercise: Find the number of students who live in San Francisco"
   ]
  },
  {
   "cell_type": "code",
   "execution_count": 93,
   "metadata": {},
   "outputs": [
    {
     "data": {
      "text/plain": [
       "['Alice', 'David', 'Grace', 'Jack']"
      ]
     },
     "execution_count": 93,
     "metadata": {},
     "output_type": "execute_result"
    }
   ],
   "source": [
    "students_in_san_francisco = []\n",
    "for student in students:\n",
    "    for adress in student[\"address\"]:\n",
    "        if adress == \"San Francisco\":\n",
    "            students_in_san_francisco.append(student[\"name\"])\n",
    "\n",
    "students_in_san_francisco"
   ]
  },
  {
   "cell_type": "code",
   "execution_count": 97,
   "metadata": {},
   "outputs": [
    {
     "name": "stdout",
     "output_type": "stream",
     "text": [
      "4\n"
     ]
    }
   ],
   "source": [
    "count = 0 \n",
    "for student in students:\n",
    "    if student[\"address\"][1] == \"San Francisco\":\n",
    "        count += 1\n",
    "\n",
    "print(count)"
   ]
  },
  {
   "attachments": {},
   "cell_type": "markdown",
   "metadata": {},
   "source": [
    "### Food Recommendations\n",
    "A food delivery service is collecting data on customer's favorite foods. \n",
    "\n",
    "They have stored the information in a list of tuples where each tuple represents a customer's name and their favorite food. \n",
    "\n",
    "The list of tuples is stored in a variable food_choices:"
   ]
  },
  {
   "cell_type": "code",
   "execution_count": 98,
   "metadata": {},
   "outputs": [],
   "source": [
    "food_choices = [\n",
    "    ('John', 'Pizza'),\n",
    "    ('Jane', 'Sushi'),\n",
    "    ('Jim', 'Burgers'),\n",
    "    ('Jill', 'Salad'),\n",
    "    ('Jack', 'Pizza'),\n",
    "    ('Joan', 'Burgers')\n",
    "]"
   ]
  },
  {
   "attachments": {},
   "cell_type": "markdown",
   "metadata": {},
   "source": [
    "### To Do: \n",
    "\n",
    "    1- Create a set of unique foods to recommend to customers based on the data stored in food_choices.\n",
    "\n",
    "    2- Create a list of the customers who have chosen each food. The list should contain a tuple for each food that includes the food name and a list of customer names who have chosen that food."
   ]
  },
  {
   "cell_type": "code",
   "execution_count": 100,
   "metadata": {},
   "outputs": [
    {
     "data": {
      "text/plain": [
       "{'Burgers', 'Pizza', 'Salad', 'Sushi'}"
      ]
     },
     "execution_count": 100,
     "metadata": {},
     "output_type": "execute_result"
    }
   ],
   "source": [
    "dishes_available = set()\n",
    "for comp in food_choices:\n",
    "    dishes_available.add(comp[1])\n",
    "\n",
    "dishes_available\n"
   ]
  },
  {
   "cell_type": "code",
   "execution_count": 103,
   "metadata": {},
   "outputs": [
    {
     "data": {
      "text/plain": [
       "{'Jack', 'Jane', 'Jill', 'Jim', 'Joan', 'John'}"
      ]
     },
     "execution_count": 103,
     "metadata": {},
     "output_type": "execute_result"
    }
   ],
   "source": [
    "people = set()\n",
    "for comp in food_choices:\n",
    "    people.add(comp[0])\n",
    "\n",
    "people"
   ]
  },
  {
   "cell_type": "code",
   "execution_count": 106,
   "metadata": {},
   "outputs": [
    {
     "data": {
      "text/plain": [
       "[0, 0, 0, 0]"
      ]
     },
     "execution_count": 106,
     "metadata": {},
     "output_type": "execute_result"
    }
   ],
   "source": [
    "count_f = [0] * len(dishes_available)\n",
    "count_f"
   ]
  },
  {
   "cell_type": "code",
   "execution_count": 108,
   "metadata": {},
   "outputs": [
    {
     "data": {
      "text/plain": [
       "{'Burgers': 0, 'Salad': 0, 'Pizza': 0, 'Sushi': 0}"
      ]
     },
     "execution_count": 108,
     "metadata": {},
     "output_type": "execute_result"
    }
   ],
   "source": [
    "food_points = dict(zip(dishes_available,count_f))\n",
    "food_points"
   ]
  },
  {
   "cell_type": "code",
   "execution_count": 119,
   "metadata": {},
   "outputs": [
    {
     "data": {
      "text/plain": [
       "{'Burgers': 2, 'Salad': 1, 'Pizza': 2, 'Sushi': 1}"
      ]
     },
     "execution_count": 119,
     "metadata": {},
     "output_type": "execute_result"
    }
   ],
   "source": [
    "for comp in food_choices:\n",
    "    dish = comp[1]\n",
    "    food_points[dish] += 1\n",
    "\n",
    "food_points"
   ]
  },
  {
   "cell_type": "code",
   "execution_count": 117,
   "metadata": {},
   "outputs": [
    {
     "name": "stdout",
     "output_type": "stream",
     "text": [
      "[('Burgers', ['Jim', 'Joan']), ('Salad', ['Jill']), ('Pizza', ['John', 'Jack']), ('Sushi', ['Jane'])]\n"
     ]
    }
   ],
   "source": [
    "food_customers = []\n",
    "for food in dishes_available:\n",
    "    customers = [customer[0] for customer in food_choices if customer[1] == food]\n",
    "    food_customers.append((food,customers))\n",
    "\n",
    "print(food_customers)"
   ]
  },
  {
   "attachments": {},
   "cell_type": "markdown",
   "metadata": {},
   "source": [
    "Notes:\n",
    "\n",
    "Lists are mutable, tuples are immutable\n",
    "\n",
    "To add element in set:  my_set.add(\"element\")\n",
    "\n",
    "Access the value of the key in the dictionary:  my_dictionary[\"key\"]\n",
    "\n",
    "Lists can have any type of data stored inside of them\n",
    "\n",
    "Tuple: my_tuple = ()\n",
    "\n",
    "Union combines elements from both sets, intersection keeps only the common elements\n",
    "\n",
    "To delete a key: del my_dict[\"key\"]"
   ]
  },
  {
   "attachments": {},
   "cell_type": "markdown",
   "metadata": {},
   "source": []
  }
 ],
 "metadata": {
  "kernelspec": {
   "display_name": "Python 3",
   "language": "python",
   "name": "python3"
  },
  "language_info": {
   "codemirror_mode": {
    "name": "ipython",
    "version": 3
   },
   "file_extension": ".py",
   "mimetype": "text/x-python",
   "name": "python",
   "nbconvert_exporter": "python",
   "pygments_lexer": "ipython3",
   "version": "3.9.7"
  },
  "orig_nbformat": 4
 },
 "nbformat": 4,
 "nbformat_minor": 2
}
