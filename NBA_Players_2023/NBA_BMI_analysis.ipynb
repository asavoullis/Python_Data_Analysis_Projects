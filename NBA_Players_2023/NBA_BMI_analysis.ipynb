{
 "cells": [
  {
   "attachments": {},
   "cell_type": "markdown",
   "metadata": {},
   "source": [
    "<font size=\"3\">Goals:</font>\n",
    "\n",
    "-Transform 1 and 2-dimensional data in Python Lists and Dictionaries into Numpy Arrays\n",
    "\n",
    "-Apply reshape, join, and split operations to Numpy arrays\n",
    "\n",
    "-Apply aggregate functions like mean, average, product, median, standard deviation, variance to Numpy arrays\n",
    "\n",
    "\n",
    "by leveraging the real world data of the NBA Lakers starting players to calculate their BMIs (Body Mass Index)."
   ]
  },
  {
   "cell_type": "code",
   "execution_count": 143,
   "metadata": {},
   "outputs": [],
   "source": [
    "import numpy as np\n",
    "import json\n",
    "import pandas as pd"
   ]
  },
  {
   "cell_type": "code",
   "execution_count": 144,
   "metadata": {},
   "outputs": [],
   "source": [
    "with open('./data.json', 'r', encoding='utf-8') as f:\n",
    "    bmi_data = json.loads(f.read())\n",
    "\n",
    "with open('./efficiency_data.json', 'r', encoding='utf-8') as f:\n",
    "    stats_data = json.loads(f.read())"
   ]
  },
  {
   "cell_type": "code",
   "execution_count": 145,
   "metadata": {},
   "outputs": [
    {
     "data": {
      "text/plain": [
       "{'Lakers': [{'Name': 'Patrick Beverly', 'Height': 73, 'Weight': 180},\n",
       "  {'Name': 'Lonnie Walker', 'Height': 76, 'Weight': 204},\n",
       "  {'Name': 'Troy Brown', 'Height': 78, 'Weight': 215},\n",
       "  {'Name': 'Lebron James', 'Height': 81, 'Weight': 250},\n",
       "  {'Name': 'Anthony Davis', 'Height': 82, 'Weight': 253}],\n",
       " 'Golden State Warriors': [{'Name': 'Stephen Curry',\n",
       "   'Height': 74,\n",
       "   'Weight': 185},\n",
       "  {'Name': 'Klay Thompson', 'Height': 78, 'Weight': 220},\n",
       "  {'Name': 'Andrew Wiggins', 'Height': 79, 'Weight': 197},\n",
       "  {'Name': 'Draymond Green', 'Height': 78, 'Weight': 230},\n",
       "  {'Name': 'Kevon Looney', 'Height': 81, 'Weight': 222}],\n",
       " 'Top 10 Highest Paid NBA Players': [{'Name': 'Lebron James',\n",
       "   'Height': 81,\n",
       "   'Weight': 250},\n",
       "  {'Name': 'Russell Westbrook', 'Height': 75, 'Weight': 200},\n",
       "  {'Name': 'Kevin Durant', 'Height': 82, 'Weight': 240},\n",
       "  {'Name': 'James Harden', 'Height': 77, 'Weight': 220},\n",
       "  {'Name': 'Stephen Curry', 'Height': 74, 'Weight': 185},\n",
       "  {'Name': 'Damian Lillard', 'Height': 74, 'Weight': 194},\n",
       "  {'Name': 'Paul George', 'Height': 80, 'Weight': 220},\n",
       "  {'Name': 'Giannis Antetokounmpo', 'Height': 83, 'Weight': 243},\n",
       "  {'Name': 'Klay Thompson', 'Height': 78, 'Weight': 220}]}"
      ]
     },
     "execution_count": 145,
     "metadata": {},
     "output_type": "execute_result"
    }
   ],
   "source": [
    "bmi_data"
   ]
  },
  {
   "cell_type": "code",
   "execution_count": 146,
   "metadata": {},
   "outputs": [
    {
     "data": {
      "text/plain": [
       "{'Lakers': [{'Name': 'Patrick Beverly',\n",
       "   'PTS': 533,\n",
       "   'REB': 240,\n",
       "   'AST': 268,\n",
       "   'STL': 67,\n",
       "   'BLK': 52,\n",
       "   'FGM': 259,\n",
       "   'FTM': 37,\n",
       "   'TO': 73},\n",
       "  {'Name': 'Lonnie Walker',\n",
       "   'PTS': 849,\n",
       "   'REB': 181,\n",
       "   'AST': 152,\n",
       "   'STL': 44,\n",
       "   'BLK': 19,\n",
       "   'FGM': 453,\n",
       "   'FTM': 32,\n",
       "   'TO': 71},\n",
       "  {'Name': 'Troy Brown',\n",
       "   'PTS': 283,\n",
       "   'REB': 203,\n",
       "   'AST': 66,\n",
       "   'STL': 36,\n",
       "   'BLK': 5,\n",
       "   'FGM': 150,\n",
       "   'FTM': 6,\n",
       "   'TO': 26},\n",
       "  {'Name': 'Lebron James',\n",
       "   'PTS': 1695,\n",
       "   'REB': 459,\n",
       "   'AST': 349,\n",
       "   'STL': 73,\n",
       "   'BLK': 59,\n",
       "   'FGM': 581,\n",
       "   'FTM': 82,\n",
       "   'TO': 196},\n",
       "  {'Name': 'Anthony Davis',\n",
       "   'PTS': 927,\n",
       "   'REB': 394,\n",
       "   'AST': 122,\n",
       "   'STL': 49,\n",
       "   'BLK': 90,\n",
       "   'FGM': 325,\n",
       "   'FTM': 70,\n",
       "   'TO': 82}],\n",
       " 'Golden State Warriors': [{'Name': 'Stephen Curry',\n",
       "   'PTS': 1630,\n",
       "   'REB': 335,\n",
       "   'AST': 404,\n",
       "   'STL': 85,\n",
       "   'BLK': 23,\n",
       "   'FGM': 689,\n",
       "   'FTM': 23,\n",
       "   'TO': 206},\n",
       "  {'Name': 'Klay Thompson',\n",
       "   'PTS': 652,\n",
       "   'REB': 125,\n",
       "   'AST': 88,\n",
       "   'STL': 16,\n",
       "   'BLK': 17,\n",
       "   'FGM': 327,\n",
       "   'FTM': 5,\n",
       "   'TO': 43},\n",
       "  {'Name': 'Andrew Wiggins',\n",
       "   'PTS': 1256,\n",
       "   'REB': 325,\n",
       "   'AST': 161,\n",
       "   'STL': 76,\n",
       "   'BLK': 51,\n",
       "   'FGM': 544,\n",
       "   'FTM': 86,\n",
       "   'TO': 111},\n",
       "  {'Name': 'Draymond Green',\n",
       "   'PTS': 346,\n",
       "   'REB': 336,\n",
       "   'AST': 320,\n",
       "   'STL': 61,\n",
       "   'BLK': 50,\n",
       "   'FGM': 122,\n",
       "   'FTM': 31,\n",
       "   'TO': 139},\n",
       "  {'Name': 'Kevon Looney',\n",
       "   'PTS': 491,\n",
       "   'REB': 596,\n",
       "   'AST': 165,\n",
       "   'STL': 50,\n",
       "   'BLK': 52,\n",
       "   'FGM': 156,\n",
       "   'FTM': 50,\n",
       "   'TO': 67}],\n",
       " 'Top 10 Highest Paid NBA Players': [{'Name': 'Lebron James',\n",
       "   'PTS': 1695,\n",
       "   'REB': 459,\n",
       "   'AST': 349,\n",
       "   'STL': 73,\n",
       "   'BLK': 59,\n",
       "   'FGM': 581,\n",
       "   'FTM': 82,\n",
       "   'TO': 196},\n",
       "  {'Name': 'Russell Westbrook',\n",
       "   'PTS': 1441,\n",
       "   'REB': 580,\n",
       "   'AST': 550,\n",
       "   'STL': 75,\n",
       "   'BLK': 20,\n",
       "   'FGM': 685,\n",
       "   'FTM': 133,\n",
       "   'TO': 295},\n",
       "  {'Name': 'Kevin Durant',\n",
       "   'PTS': 1643,\n",
       "   'REB': 407,\n",
       "   'AST': 351,\n",
       "   'STL': 48,\n",
       "   'BLK': 52,\n",
       "   'FGM': 537,\n",
       "   'FTM': 37,\n",
       "   'TO': 123},\n",
       "  {'Name': 'James Harden',\n",
       "   'PTS': 1432,\n",
       "   'REB': 500,\n",
       "   'AST': 667,\n",
       "   'STL': 82,\n",
       "   'BLK': 36,\n",
       "   'FGM': 585,\n",
       "   'FTM': 66,\n",
       "   'TO': 284},\n",
       "  {'Name': 'Stephen Curry',\n",
       "   'PTS': 1630,\n",
       "   'REB': 335,\n",
       "   'AST': 404,\n",
       "   'STL': 85,\n",
       "   'BLK': 23,\n",
       "   'FGM': 689,\n",
       "   'FTM': 23,\n",
       "   'TO': 206},\n",
       "  {'Name': 'Damian Lillard',\n",
       "   'PTS': 695,\n",
       "   'REB': 120,\n",
       "   'AST': 212,\n",
       "   'STL': 17,\n",
       "   'BLK': 11,\n",
       "   'FGM': 330,\n",
       "   'FTM': 22,\n",
       "   'TO': 83},\n",
       "  {'Name': 'Paul George',\n",
       "   'PTS': 754,\n",
       "   'REB': 213,\n",
       "   'AST': 176,\n",
       "   'STL': 67,\n",
       "   'BLK': 13,\n",
       "   'FGM': 368,\n",
       "   'FTM': 21,\n",
       "   'TO': 126},\n",
       "  {'Name': 'Giannis Antetokounmpo',\n",
       "   'PTS': 2002,\n",
       "   'REB': 778,\n",
       "   'AST': 388,\n",
       "   'STL': 72,\n",
       "   'BLK': 91,\n",
       "   'FGM': 556,\n",
       "   'FTM': 213,\n",
       "   'TO': 219},\n",
       "  {'Name': 'Klay Thompson',\n",
       "   'PTS': 652,\n",
       "   'REB': 125,\n",
       "   'AST': 88,\n",
       "   'STL': 16,\n",
       "   'BLK': 17,\n",
       "   'FGM': 327,\n",
       "   'FTM': 5,\n",
       "   'TO': 43}]}"
      ]
     },
     "execution_count": 146,
     "metadata": {},
     "output_type": "execute_result"
    }
   ],
   "source": [
    "stats_data"
   ]
  },
  {
   "cell_type": "code",
   "execution_count": 147,
   "metadata": {},
   "outputs": [
    {
     "name": "stdout",
     "output_type": "stream",
     "text": [
      "{'Name': 'Patrick Beverly', 'Height': 73, 'Weight': 180}\n",
      "{'Name': 'Lonnie Walker', 'Height': 76, 'Weight': 204}\n",
      "{'Name': 'Troy Brown', 'Height': 78, 'Weight': 215}\n",
      "{'Name': 'Lebron James', 'Height': 81, 'Weight': 250}\n",
      "{'Name': 'Anthony Davis', 'Height': 82, 'Weight': 253}\n"
     ]
    }
   ],
   "source": [
    "for data in bmi_data[\"Lakers\"]:\n",
    "    print(data)"
   ]
  },
  {
   "cell_type": "code",
   "execution_count": 148,
   "metadata": {},
   "outputs": [
    {
     "name": "stdout",
     "output_type": "stream",
     "text": [
      "Name Anthony Davis\n",
      "Height 82\n",
      "Weight 253\n"
     ]
    }
   ],
   "source": [
    "for key,value in data.items():\n",
    "    print(key,value)"
   ]
  },
  {
   "cell_type": "code",
   "execution_count": 149,
   "metadata": {},
   "outputs": [
    {
     "name": "stdout",
     "output_type": "stream",
     "text": [
      "[73, 76, 78, 81, 82]\n"
     ]
    }
   ],
   "source": [
    "lakers_height = [value for data in bmi_data[\"Lakers\"] for key, value in data.items() if key ==\"Height\"]\n",
    "print(lakers_height)"
   ]
  },
  {
   "cell_type": "code",
   "execution_count": 150,
   "metadata": {},
   "outputs": [
    {
     "name": "stdout",
     "output_type": "stream",
     "text": [
      "[180, 204, 215, 250, 253]\n"
     ]
    }
   ],
   "source": [
    "lakers_weight = [value for data in bmi_data[\"Lakers\"] for key, value in data.items() if key == \"Weight\"]\n",
    "print(lakers_weight)"
   ]
  },
  {
   "cell_type": "code",
   "execution_count": 151,
   "metadata": {},
   "outputs": [
    {
     "data": {
      "text/plain": [
       "[533, 849, 283, 1695, 927]"
      ]
     },
     "execution_count": 151,
     "metadata": {},
     "output_type": "execute_result"
    }
   ],
   "source": [
    "pts = [value for data in stats_data[\"Lakers\"] for key, value in data.items() if key == \"PTS\"]\n",
    "pts"
   ]
  },
  {
   "cell_type": "code",
   "execution_count": 152,
   "metadata": {},
   "outputs": [
    {
     "data": {
      "text/plain": [
       "[240, 181, 203, 459, 394]"
      ]
     },
     "execution_count": 152,
     "metadata": {},
     "output_type": "execute_result"
    }
   ],
   "source": [
    "reb = [value for data in stats_data[\"Lakers\"] for key, value in data.items() if key == \"REB\"]\n",
    "reb"
   ]
  },
  {
   "cell_type": "code",
   "execution_count": 153,
   "metadata": {},
   "outputs": [
    {
     "data": {
      "text/plain": [
       "[268, 152, 66, 349, 122]"
      ]
     },
     "execution_count": 153,
     "metadata": {},
     "output_type": "execute_result"
    }
   ],
   "source": [
    "ast = [value for data in stats_data[\"Lakers\"] for key, value in data.items() if key == \"AST\"]\n",
    "ast"
   ]
  },
  {
   "cell_type": "code",
   "execution_count": 154,
   "metadata": {},
   "outputs": [
    {
     "data": {
      "text/plain": [
       "[67, 44, 36, 73, 49]"
      ]
     },
     "execution_count": 154,
     "metadata": {},
     "output_type": "execute_result"
    }
   ],
   "source": [
    "stl = [value for data in stats_data[\"Lakers\"] for key, value in data.items() if key == \"STL\"]\n",
    "stl"
   ]
  },
  {
   "cell_type": "code",
   "execution_count": 155,
   "metadata": {},
   "outputs": [
    {
     "data": {
      "text/plain": [
       "[52, 19, 5, 59, 90]"
      ]
     },
     "execution_count": 155,
     "metadata": {},
     "output_type": "execute_result"
    }
   ],
   "source": [
    "blk = [value for data in stats_data[\"Lakers\"] for key, value in data.items() if key == \"BLK\"]\n",
    "blk"
   ]
  },
  {
   "cell_type": "code",
   "execution_count": 156,
   "metadata": {},
   "outputs": [
    {
     "data": {
      "text/plain": [
       "[259, 453, 150, 581, 325]"
      ]
     },
     "execution_count": 156,
     "metadata": {},
     "output_type": "execute_result"
    }
   ],
   "source": [
    "mfg = [value for data in stats_data[\"Lakers\"] for key, value in data.items() if key == \"FGM\"]\n",
    "mfg"
   ]
  },
  {
   "cell_type": "code",
   "execution_count": 157,
   "metadata": {},
   "outputs": [
    {
     "data": {
      "text/plain": [
       "[37, 32, 6, 82, 70]"
      ]
     },
     "execution_count": 157,
     "metadata": {},
     "output_type": "execute_result"
    }
   ],
   "source": [
    "mft  = [value for data in stats_data[\"Lakers\"] for key, value in data.items() if key == \"FTM\"]\n",
    "mft"
   ]
  },
  {
   "cell_type": "code",
   "execution_count": 158,
   "metadata": {},
   "outputs": [
    {
     "data": {
      "text/plain": [
       "[73, 71, 26, 196, 82]"
      ]
     },
     "execution_count": 158,
     "metadata": {},
     "output_type": "execute_result"
    }
   ],
   "source": [
    "tov = [value for data in stats_data[\"Lakers\"] for key, value in data.items() if key == \"TO\"]\n",
    "tov"
   ]
  },
  {
   "cell_type": "code",
   "execution_count": 159,
   "metadata": {},
   "outputs": [
    {
     "data": {
      "text/plain": [
       "array([73, 76, 78, 81, 82])"
      ]
     },
     "execution_count": 159,
     "metadata": {},
     "output_type": "execute_result"
    }
   ],
   "source": [
    "lakers_height_array = np.array(lakers_height)\n",
    "lakers_weight_array = np.array(lakers_weight)\n",
    "pts_array = np.array(pts)\n",
    "reb_array = np.array(reb)\n",
    "ast_array = np.array(ast)\n",
    "stl_array = np.array(stl)\n",
    "blk_array = np.array(blk)\n",
    "mfg_array = np.array(mfg)\n",
    "mft_array = np.array(mft)\n",
    "tov_array = np.array(tov)\n",
    "\n",
    "lakers_height_array\n"
   ]
  },
  {
   "cell_type": "code",
   "execution_count": 160,
   "metadata": {},
   "outputs": [
    {
     "name": "stdout",
     "output_type": "stream",
     "text": [
      "[[1 1 1]\n",
      " [1 1 1]]\n"
     ]
    }
   ],
   "source": [
    "example_2d = [[1,1,1],[1,1,1]]\n",
    "print(np.array(example_2d))"
   ]
  },
  {
   "cell_type": "code",
   "execution_count": 161,
   "metadata": {},
   "outputs": [
    {
     "data": {
      "text/plain": [
       "array([ 81.72 ,  92.616,  97.61 , 113.5  , 114.862])"
      ]
     },
     "execution_count": 161,
     "metadata": {},
     "output_type": "execute_result"
    }
   ],
   "source": [
    "# convert the weights from pounds to kilos\n",
    "\n",
    "lakers_weight_kg = lakers_weight_array * 0.454\n",
    "lakers_weight_kg"
   ]
  },
  {
   "cell_type": "code",
   "execution_count": 162,
   "metadata": {},
   "outputs": [
    {
     "data": {
      "text/plain": [
       "array([185.42, 193.04, 198.12, 205.74, 208.28])"
      ]
     },
     "execution_count": 162,
     "metadata": {},
     "output_type": "execute_result"
    }
   ],
   "source": [
    "# convert the heights from inches to centimeters\n",
    "lakers_height_cm = lakers_height_array * 2.54\n",
    "lakers_height_cm"
   ]
  },
  {
   "cell_type": "code",
   "execution_count": 163,
   "metadata": {},
   "outputs": [],
   "source": [
    "# BMI Calculator\n",
    "\n",
    "def bmi_calculator(system, weight, height):\n",
    "    \"\"\"\n",
    "    This function calculates the BMI of NBA players using either the metric system or the imperial system\n",
    "    \"\"\"\n",
    "    BMI = None \n",
    "    if system == \"imperial\":\n",
    "        BMI = weight/(height**2) * 703\n",
    "    elif system == \"metric\":\n",
    "        BMI = weight/(height**2) * 10000\n",
    "    return BMI"
   ]
  },
  {
   "cell_type": "code",
   "execution_count": 164,
   "metadata": {},
   "outputs": [
    {
     "data": {
      "text/plain": [
       "array([23.74554325, 24.82894737, 24.8430309 , 26.78707514, 26.45136823])"
      ]
     },
     "execution_count": 164,
     "metadata": {},
     "output_type": "execute_result"
    }
   ],
   "source": [
    "bmi_calculator(\"imperial\", lakers_weight_array, lakers_height_array)"
   ]
  },
  {
   "cell_type": "code",
   "execution_count": 165,
   "metadata": {},
   "outputs": [
    {
     "data": {
      "text/plain": [
       "array([23.769235  , 24.85372007, 24.86781765, 26.81380153, 26.47775968])"
      ]
     },
     "execution_count": 165,
     "metadata": {},
     "output_type": "execute_result"
    }
   ],
   "source": [
    "bmi_calculator(\"metric\", lakers_weight_kg, lakers_height_cm)"
   ]
  },
  {
   "cell_type": "code",
   "execution_count": 166,
   "metadata": {},
   "outputs": [
    {
     "data": {
      "text/plain": [
       "[185, 220, 197, 230, 222]"
      ]
     },
     "execution_count": 166,
     "metadata": {},
     "output_type": "execute_result"
    }
   ],
   "source": [
    "# Caclulating the BMI for the Golden State Warriors starting team\n",
    "\n",
    "# storing the heights and weights for the Golden State Warriors starting team in a list respectively\n",
    "gsw_height = [value for data in bmi_data[\"Golden State Warriors\"] for key, value in data.items() if key == \"Height\"]\n",
    "gsw_weight = [value for data in bmi_data[\"Golden State Warriors\"] for key, value in data.items() if key == \"Weight\"]\n",
    "gsw_weight"
   ]
  },
  {
   "cell_type": "code",
   "execution_count": 167,
   "metadata": {},
   "outputs": [
    {
     "data": {
      "text/plain": [
       "(array([74, 78, 79, 78, 81]), array([185, 220, 197, 230, 222]))"
      ]
     },
     "execution_count": 167,
     "metadata": {},
     "output_type": "execute_result"
    }
   ],
   "source": [
    "# converting the lists into a numpy array\n",
    "gsw_height_array = np.array(gsw_height)\n",
    "gsw_weight_array = np.array(gsw_weight)\n",
    "gsw_height_array, gsw_weight_array"
   ]
  },
  {
   "cell_type": "code",
   "execution_count": 168,
   "metadata": {},
   "outputs": [
    {
     "data": {
      "text/plain": [
       "(array([187.96, 198.12, 200.66, 198.12, 205.74]),\n",
       " array([ 83.99 ,  99.88 ,  89.438, 104.42 , 100.788]))"
      ]
     },
     "execution_count": 168,
     "metadata": {},
     "output_type": "execute_result"
    }
   ],
   "source": [
    "# Converting imperial data to metrics\n",
    "gsw_weight_kg = gsw_weight_array * 0.454\n",
    "gsw_height_cm = gsw_height_array * 2.54\n",
    "gsw_height_cm, gsw_weight_kg"
   ]
  },
  {
   "cell_type": "code",
   "execution_count": 169,
   "metadata": {},
   "outputs": [
    {
     "name": "stdout",
     "output_type": "stream",
     "text": [
      "[23.75       25.42077581 22.19051434 26.57626561 23.78692273]\n",
      "[23.7736962  25.44613899 22.21265458 26.60278167 23.81065576]\n"
     ]
    }
   ],
   "source": [
    "# Calculating the BMI\n",
    "print(bmi_calculator(\"imperial\",gsw_weight_array, gsw_height_array))\n",
    "print(bmi_calculator(\"metric\",gsw_weight_kg, gsw_height_cm))"
   ]
  },
  {
   "cell_type": "code",
   "execution_count": 170,
   "metadata": {},
   "outputs": [
    {
     "data": {
      "text/plain": [
       "array([ 791,  689,  411, 1776, 1105])"
      ]
     },
     "execution_count": 170,
     "metadata": {},
     "output_type": "execute_result"
    }
   ],
   "source": [
    "# Calculating the player efficiency rates with numpy\n",
    "\n",
    "# EFF= (PTS + REB + AST + STL + BLK - Missed FG - Missed FT - TOV) \n",
    "\n",
    "lakers_players_efficiency = pts_array + reb_array + ast_array + stl_array + blk_array - mfg_array - mft_array - tov_array\n",
    "lakers_players_efficiency"
   ]
  },
  {
   "attachments": {},
   "cell_type": "markdown",
   "metadata": {},
   "source": [
    "Performing aggregate functions on the Lakers starting team"
   ]
  },
  {
   "cell_type": "code",
   "execution_count": 173,
   "metadata": {},
   "outputs": [
    {
     "name": "stdout",
     "output_type": "stream",
     "text": [
      "390\n",
      "1102\n"
     ]
    }
   ],
   "source": [
    "# Summation  (result in inches, pounds)\n",
    "print(np.sum(lakers_height_array))\n",
    "print(np.sum(lakers_weight_array))"
   ]
  },
  {
   "cell_type": "code",
   "execution_count": 174,
   "metadata": {},
   "outputs": [
    {
     "data": {
      "text/plain": [
       "390"
      ]
     },
     "execution_count": 174,
     "metadata": {},
     "output_type": "execute_result"
    }
   ],
   "source": [
    "# Alternative method:\n",
    "lakers_height_array.sum()"
   ]
  },
  {
   "cell_type": "code",
   "execution_count": 177,
   "metadata": {},
   "outputs": [
    {
     "data": {
      "text/plain": [
       "220.4"
      ]
     },
     "execution_count": 177,
     "metadata": {},
     "output_type": "execute_result"
    }
   ],
   "source": [
    "# Average weight of Lakers players (pounds)\n",
    "np.average(lakers_weight_array)"
   ]
  },
  {
   "cell_type": "code",
   "execution_count": 178,
   "metadata": {},
   "outputs": [
    {
     "data": {
      "text/plain": [
       "78.0"
      ]
     },
     "execution_count": 178,
     "metadata": {},
     "output_type": "execute_result"
    }
   ],
   "source": [
    "# Average height of Lakers players (inches)\n",
    "np.average(lakers_height_array)"
   ]
  },
  {
   "cell_type": "code",
   "execution_count": 181,
   "metadata": {},
   "outputs": [
    {
     "data": {
      "text/plain": [
       "(180, 253)"
      ]
     },
     "execution_count": 181,
     "metadata": {},
     "output_type": "execute_result"
    }
   ],
   "source": [
    "# Min and Max of an array, in this case of weight - pounds\n",
    "lakers_weight_array.min(), lakers_weight_array.max()"
   ]
  },
  {
   "cell_type": "code",
   "execution_count": 183,
   "metadata": {},
   "outputs": [
    {
     "data": {
      "text/plain": [
       "(180, 253)"
      ]
     },
     "execution_count": 183,
     "metadata": {},
     "output_type": "execute_result"
    }
   ],
   "source": [
    "# Min and Max of an array, in this case of weight - pounds\n",
    "lakers_weight_array.min(), lakers_weight_array.max()"
   ]
  },
  {
   "cell_type": "code",
   "execution_count": 184,
   "metadata": {},
   "outputs": [
    {
     "data": {
      "text/plain": [
       "(73, 82)"
      ]
     },
     "execution_count": 184,
     "metadata": {},
     "output_type": "execute_result"
    }
   ],
   "source": [
    "# Min and Max of an array, in this case of height - inches\n",
    "lakers_height_array.min(), lakers_height_array.max()"
   ]
  },
  {
   "cell_type": "code",
   "execution_count": 185,
   "metadata": {},
   "outputs": [
    {
     "data": {
      "text/plain": [
       "(27.817979797246238, 3.286335345030997)"
      ]
     },
     "execution_count": 185,
     "metadata": {},
     "output_type": "execute_result"
    }
   ],
   "source": [
    "# Calculating standard deviation\n",
    "lakers_weight_array.std(), lakers_height_array.std()"
   ]
  },
  {
   "cell_type": "code",
   "execution_count": 187,
   "metadata": {},
   "outputs": [
    {
     "data": {
      "text/plain": [
       "(78.0, 81.0, 81.6)"
      ]
     },
     "execution_count": 187,
     "metadata": {},
     "output_type": "execute_result"
    }
   ],
   "source": [
    "# Percentile\n",
    "np.percentile(lakers_height_array,50),np.percentile(lakers_height_array,75),np.percentile(lakers_height_array,90)"
   ]
  },
  {
   "cell_type": "code",
   "execution_count": 188,
   "metadata": {},
   "outputs": [
    {
     "data": {
      "text/plain": [
       "(215.0, 250.0, 251.8)"
      ]
     },
     "execution_count": 188,
     "metadata": {},
     "output_type": "execute_result"
    }
   ],
   "source": [
    "# Percentile\n",
    "np.percentile(lakers_weight_array,50),np.percentile(lakers_weight_array,75),np.percentile(lakers_weight_array,90)"
   ]
  },
  {
   "attachments": {},
   "cell_type": "markdown",
   "metadata": {},
   "source": [
    "Same task for the GSW:"
   ]
  },
  {
   "cell_type": "code",
   "execution_count": 190,
   "metadata": {},
   "outputs": [
    {
     "name": "stdout",
     "output_type": "stream",
     "text": [
      "390\n",
      "1054\n"
     ]
    }
   ],
   "source": [
    "# Summation  (result in inches, pounds)\n",
    "print(np.sum(gsw_height_array))\n",
    "print(np.sum(gsw_weight_array))"
   ]
  },
  {
   "cell_type": "code",
   "execution_count": 191,
   "metadata": {},
   "outputs": [
    {
     "data": {
      "text/plain": [
       "(78.0, 210.8)"
      ]
     },
     "execution_count": 191,
     "metadata": {},
     "output_type": "execute_result"
    }
   ],
   "source": [
    "# Average \n",
    "np.average(gsw_height_array),np.average(gsw_weight_array)"
   ]
  },
  {
   "cell_type": "code",
   "execution_count": 192,
   "metadata": {},
   "outputs": [
    {
     "data": {
      "text/plain": [
       "(185, 230, 74, 81)"
      ]
     },
     "execution_count": 192,
     "metadata": {},
     "output_type": "execute_result"
    }
   ],
   "source": [
    "# Min and Max of GSW height/ weight\n",
    "gsw_weight_array.min(), gsw_weight_array.max(), gsw_height_array.min(), gsw_height_array.max()"
   ]
  },
  {
   "cell_type": "code",
   "execution_count": 195,
   "metadata": {},
   "outputs": [
    {
     "data": {
      "text/plain": [
       "(220.0, 222.0, 80.2)"
      ]
     },
     "execution_count": 195,
     "metadata": {},
     "output_type": "execute_result"
    }
   ],
   "source": [
    "# Percentile weight\n",
    "np.percentile(gsw_weight_array,50),np.percentile(gsw_weight_array,75),np.percentile(gsw_height_array,90)"
   ]
  },
  {
   "cell_type": "code",
   "execution_count": 194,
   "metadata": {},
   "outputs": [
    {
     "data": {
      "text/plain": [
       "(78.0, 79.0, 80.2)"
      ]
     },
     "execution_count": 194,
     "metadata": {},
     "output_type": "execute_result"
    }
   ],
   "source": [
    "# Percentile height\n",
    "np.percentile(gsw_height_array,50),np.percentile(gsw_height_array,75),np.percentile(gsw_height_array,90)"
   ]
  },
  {
   "attachments": {},
   "cell_type": "markdown",
   "metadata": {},
   "source": [
    "Top 10 Highest Paid NBA Players Insights"
   ]
  },
  {
   "cell_type": "code",
   "execution_count": 197,
   "metadata": {},
   "outputs": [
    {
     "name": "stdout",
     "output_type": "stream",
     "text": [
      "[81, 75, 82, 77, 74, 74, 80, 83, 78]\n",
      "[250, 200, 240, 220, 185, 194, 220, 243, 220]\n"
     ]
    }
   ],
   "source": [
    "# Capstone Data\n",
    "\n",
    "top10_height = [value for data in bmi_data[\"Top 10 Highest Paid NBA Players\"] for key, value in data.items() if key == \"Height\"]\n",
    "top10_weight = [value for data in bmi_data[\"Top 10 Highest Paid NBA Players\"] for key, value in data.items() if key == \"Weight\"]\n",
    "\n",
    "print(top10_height)\n",
    "print(top10_weight)"
   ]
  },
  {
   "cell_type": "code",
   "execution_count": 198,
   "metadata": {},
   "outputs": [
    {
     "name": "stdout",
     "output_type": "stream",
     "text": [
      "[1 1 0]\n"
     ]
    }
   ],
   "source": [
    "a = np.array([45,16,73])\n",
    "b = np.array([4,3,1])\n",
    "print(np.mod(a,b))"
   ]
  },
  {
   "attachments": {},
   "cell_type": "markdown",
   "metadata": {},
   "source": [
    "Numpy arrays are homogeneous whereas python lists are not\n",
    "\n",
    "Variance measures how the various BMIs of the players vary from the mean\n"
   ]
  },
  {
   "cell_type": "code",
   "execution_count": 199,
   "metadata": {},
   "outputs": [
    {
     "data": {
      "text/plain": [
       "array([2, 1, 2])"
      ]
     },
     "execution_count": 199,
     "metadata": {},
     "output_type": "execute_result"
    }
   ],
   "source": [
    "a = ([1,2,1],[1,1,1],[2,1,1])\n",
    "np.prod(a,axis=1)"
   ]
  },
  {
   "cell_type": "code",
   "execution_count": null,
   "metadata": {},
   "outputs": [],
   "source": []
  }
 ],
 "metadata": {
  "kernelspec": {
   "display_name": "Python 3",
   "language": "python",
   "name": "python3"
  },
  "language_info": {
   "codemirror_mode": {
    "name": "ipython",
    "version": 3
   },
   "file_extension": ".py",
   "mimetype": "text/x-python",
   "name": "python",
   "nbconvert_exporter": "python",
   "pygments_lexer": "ipython3",
   "version": "3.9.7"
  },
  "orig_nbformat": 4
 },
 "nbformat": 4,
 "nbformat_minor": 2
}
