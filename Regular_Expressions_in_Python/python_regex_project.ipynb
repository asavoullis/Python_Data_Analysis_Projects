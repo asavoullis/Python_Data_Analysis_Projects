{
 "cells": [
  {
   "attachments": {},
   "cell_type": "markdown",
   "metadata": {},
   "source": [
    "# Course Objectives\n",
    "\n",
    "In this course, we are going to focus on three learning objectives:\n",
    "\n",
    "- Construct regex patterns\n",
    "\n",
    "- Validate passwords and user input in web forms\n",
    "\n",
    "- Extract patterns and replace strings with regex\n",
    "\n",
    "By the end of this course, you will be able to use regex patterns to validate web forms, extract and replace strings with regex."
   ]
  },
  {
   "attachments": {},
   "cell_type": "markdown",
   "metadata": {},
   "source": [
    "# Project Structure:\n",
    "\n",
    "The hands on project on Regular Expressions in Python is divided into following tasks:'\n",
    "\n",
    "Task #1: Introduction to Regular Expressions in Python\n",
    "\n",
    "Task #2: Intermediate Regular Expressions in Python\n",
    "\n",
    "Task #3: Password Validation with Regular Expressions\n",
    "\n",
    "Task #4: Form and User Input Validation with Regular Expressions\n",
    "\n",
    "Task #5: Extraction and Word Replacement from Server Logs"
   ]
  },
  {
   "cell_type": "code",
   "execution_count": 3,
   "metadata": {},
   "outputs": [],
   "source": [
    "# regex library\n",
    "import re"
   ]
  },
  {
   "attachments": {},
   "cell_type": "markdown",
   "metadata": {},
   "source": [
    "### Metacharacters\n",
    "\n",
    "^ (carrot sign) - used to search a patern at the start of a string\n",
    "\n",
    "$ (dollar sign) - used to search a patern at the end of a string"
   ]
  },
  {
   "cell_type": "code",
   "execution_count": 4,
   "metadata": {},
   "outputs": [],
   "source": [
    "st = 'dogs are adorable'"
   ]
  },
  {
   "cell_type": "code",
   "execution_count": 5,
   "metadata": {},
   "outputs": [],
   "source": [
    "# search for a pattern\n",
    "p = '^dogs'"
   ]
  },
  {
   "cell_type": "code",
   "execution_count": 6,
   "metadata": {},
   "outputs": [
    {
     "data": {
      "text/plain": [
       "<re.Match object; span=(0, 4), match='dogs'>"
      ]
     },
     "execution_count": 6,
     "metadata": {},
     "output_type": "execute_result"
    }
   ],
   "source": [
    "re.search(p, st)"
   ]
  },
  {
   "attachments": {},
   "cell_type": "markdown",
   "metadata": {},
   "source": [
    "The output of the above cell shows that indeed it has found the pattern p and has returned the matched object.\n",
    "\n",
    "The output is a tuple and it shows where the pattern was found (location (0,4) )"
   ]
  },
  {
   "cell_type": "code",
   "execution_count": 7,
   "metadata": {},
   "outputs": [],
   "source": [
    "p2 = 'dogs$'"
   ]
  },
  {
   "cell_type": "code",
   "execution_count": 8,
   "metadata": {},
   "outputs": [],
   "source": [
    "re.search(p2,st)"
   ]
  },
  {
   "cell_type": "code",
   "execution_count": 9,
   "metadata": {},
   "outputs": [
    {
     "name": "stdout",
     "output_type": "stream",
     "text": [
      "None\n"
     ]
    }
   ],
   "source": [
    "print(re.search(p2,st))"
   ]
  },
  {
   "attachments": {},
   "cell_type": "markdown",
   "metadata": {},
   "source": [
    "if there is no match, just like in the case above its going to return None.\n",
    "\n",
    "there is no dogs at the end of the string st"
   ]
  },
  {
   "attachments": {},
   "cell_type": "markdown",
   "metadata": {},
   "source": [
    "### Quantifiers\n",
    "\n",
    "? - 0 or 1 occurance of the preceeding element\n",
    "\n",
    "+  -  1 or more occurance of the preceding element\n",
    "\n",
    "* (asterisk) - \t0 or 1 times"
   ]
  },
  {
   "cell_type": "code",
   "execution_count": 10,
   "metadata": {},
   "outputs": [],
   "source": [
    "st2 = 'color'\n",
    "st3 = 'colour'"
   ]
  },
  {
   "cell_type": "code",
   "execution_count": 11,
   "metadata": {},
   "outputs": [
    {
     "data": {
      "text/plain": [
       "<re.Match object; span=(0, 5), match='color'>"
      ]
     },
     "execution_count": 11,
     "metadata": {},
     "output_type": "execute_result"
    }
   ],
   "source": [
    "# here it means that u is option, the character/element before the questionmark is optional , 0 or 1 occurance of the preceeding element\n",
    "\n",
    "re.search('colou?r',st2)"
   ]
  },
  {
   "cell_type": "code",
   "execution_count": 12,
   "metadata": {},
   "outputs": [
    {
     "data": {
      "text/plain": [
       "<re.Match object; span=(0, 6), match='colour'>"
      ]
     },
     "execution_count": 12,
     "metadata": {},
     "output_type": "execute_result"
    }
   ],
   "source": [
    "re.search('colou?r',st3)"
   ]
  },
  {
   "cell_type": "code",
   "execution_count": 13,
   "metadata": {},
   "outputs": [],
   "source": [
    "st4 = 'ac'\n",
    "st5 = 'abc'\n",
    "st6 = 'abbc'"
   ]
  },
  {
   "cell_type": "code",
   "execution_count": 14,
   "metadata": {},
   "outputs": [
    {
     "name": "stdout",
     "output_type": "stream",
     "text": [
      "None\n"
     ]
    }
   ],
   "source": [
    "# here it means that u needs to be there at least once, or more\n",
    "print(re.search('ab+c',st4))\n",
    "\n",
    "# in this case st4 = 'ac' there is no b so it returns nothing"
   ]
  },
  {
   "cell_type": "code",
   "execution_count": 15,
   "metadata": {},
   "outputs": [
    {
     "name": "stdout",
     "output_type": "stream",
     "text": [
      "<re.Match object; span=(0, 3), match='abc'>\n"
     ]
    }
   ],
   "source": [
    "print(re.search('ab+c',st5))"
   ]
  },
  {
   "cell_type": "code",
   "execution_count": 16,
   "metadata": {},
   "outputs": [
    {
     "name": "stdout",
     "output_type": "stream",
     "text": [
      "<re.Match object; span=(0, 4), match='abbc'>\n"
     ]
    }
   ],
   "source": [
    "print(re.search('ab+c',st6))"
   ]
  },
  {
   "cell_type": "code",
   "execution_count": 17,
   "metadata": {},
   "outputs": [
    {
     "data": {
      "text/plain": [
       "<re.Match object; span=(0, 1), match='a'>"
      ]
     },
     "execution_count": 17,
     "metadata": {},
     "output_type": "execute_result"
    }
   ],
   "source": [
    "re.search('a*',st6)"
   ]
  },
  {
   "cell_type": "code",
   "execution_count": 18,
   "metadata": {},
   "outputs": [
    {
     "data": {
      "text/plain": [
       "<re.Match object; span=(0, 0), match=''>"
      ]
     },
     "execution_count": 18,
     "metadata": {},
     "output_type": "execute_result"
    }
   ],
   "source": [
    "re.search('d*',st6)"
   ]
  },
  {
   "cell_type": "code",
   "execution_count": 19,
   "metadata": {},
   "outputs": [
    {
     "name": "stdout",
     "output_type": "stream",
     "text": [
      "<re.Match object; span=(0, 4), match='abbc'>\n"
     ]
    }
   ],
   "source": [
    "print(re.search('a*b*c*',st6))"
   ]
  },
  {
   "attachments": {},
   "cell_type": "markdown",
   "metadata": {},
   "source": [
    "### Metacharacters\n",
    "\n",
    "\n",
    "(hyphen) means a range  -\n",
    "\n",
    ". (any single character except the new line character)"
   ]
  },
  {
   "attachments": {},
   "cell_type": "markdown",
   "metadata": {},
   "source": [
    "Sets\n",
    "[ ]\n",
    "\n",
    "[a-n] returns matches for any character in the alphabet between a and n (lowercase)\n",
    "\n",
    "[^a-n] returns matches for any character in the alphabet except from a to n range\n",
    "\n",
    "[0145] will return matches for characters 0 or 1 or 4 or 5 \n",
    "\n",
    "[0-9] will search for any number between 0 and 9\n",
    "\n",
    "[0-5][0-9] will search for any 2 digit number between 00 and 59\n",
    "\n",
    "[a-Z] will return matches for all characters in the alphabet whether they are lowercase or uppercase\n",
    "\n",
    "\n"
   ]
  },
  {
   "cell_type": "code",
   "execution_count": 20,
   "metadata": {},
   "outputs": [],
   "source": [
    "st = 'dogs are adorable'"
   ]
  },
  {
   "cell_type": "code",
   "execution_count": 21,
   "metadata": {},
   "outputs": [
    {
     "data": {
      "text/plain": [
       "<re.Match object; span=(0, 1), match='d'>"
      ]
     },
     "execution_count": 21,
     "metadata": {},
     "output_type": "execute_result"
    }
   ],
   "source": [
    "re.search('[a-d]',st)"
   ]
  },
  {
   "cell_type": "code",
   "execution_count": 22,
   "metadata": {},
   "outputs": [
    {
     "data": {
      "text/plain": [
       "['d', 'a', 'a', 'd', 'a', 'b']"
      ]
     },
     "execution_count": 22,
     "metadata": {},
     "output_type": "execute_result"
    }
   ],
   "source": [
    "re.findall('[a-d]',st)"
   ]
  },
  {
   "attachments": {},
   "cell_type": "markdown",
   "metadata": {},
   "source": [
    "### Special Sequences\n",
    "\n",
    "\\d returns a match where the string contains any digit  [ 0 - 9 ]\n",
    "\n",
    "\\w returns a match where the string contains any element and underscore _ [ 0-9 a - Z _]"
   ]
  },
  {
   "cell_type": "code",
   "execution_count": 23,
   "metadata": {},
   "outputs": [
    {
     "data": {
      "text/plain": [
       "<re.Match object; span=(19, 20), match='1'>"
      ]
     },
     "execution_count": 23,
     "metadata": {},
     "output_type": "execute_result"
    }
   ],
   "source": [
    "re.search('\\d', 'my password is pass1234')"
   ]
  },
  {
   "attachments": {},
   "cell_type": "markdown",
   "metadata": {},
   "source": [
    "it has returned the first digit and its location in a tuple"
   ]
  },
  {
   "cell_type": "code",
   "execution_count": 24,
   "metadata": {},
   "outputs": [
    {
     "data": {
      "text/plain": [
       "<re.Match object; span=(19, 21), match='12'>"
      ]
     },
     "execution_count": 24,
     "metadata": {},
     "output_type": "execute_result"
    }
   ],
   "source": [
    "re.search('\\d\\d', 'my password is pass1234')\n",
    "# finds 2 digits"
   ]
  },
  {
   "cell_type": "code",
   "execution_count": 25,
   "metadata": {},
   "outputs": [
    {
     "data": {
      "text/plain": [
       "['1', '2', '3', '4']"
      ]
     },
     "execution_count": 25,
     "metadata": {},
     "output_type": "execute_result"
    }
   ],
   "source": [
    "re.findall('\\d', 'my password is pass1234')\n",
    "# finds all the digits"
   ]
  },
  {
   "cell_type": "code",
   "execution_count": 26,
   "metadata": {},
   "outputs": [
    {
     "data": {
      "text/plain": [
       "<re.Match object; span=(0, 1), match='m'>"
      ]
     },
     "execution_count": 26,
     "metadata": {},
     "output_type": "execute_result"
    }
   ],
   "source": [
    "re.search('\\w', 'my password is pass1234')\n",
    "# finds the first element and returns it"
   ]
  },
  {
   "cell_type": "code",
   "execution_count": 27,
   "metadata": {},
   "outputs": [
    {
     "data": {
      "text/plain": [
       "['m',\n",
       " 'y',\n",
       " 'p',\n",
       " 'a',\n",
       " 's',\n",
       " 's',\n",
       " 'w',\n",
       " 'o',\n",
       " 'r',\n",
       " 'd',\n",
       " 'i',\n",
       " 's',\n",
       " 'p',\n",
       " 'a',\n",
       " 's',\n",
       " 's',\n",
       " '1',\n",
       " '2',\n",
       " '3',\n",
       " '4']"
      ]
     },
     "execution_count": 27,
     "metadata": {},
     "output_type": "execute_result"
    }
   ],
   "source": [
    "re.findall('\\w', 'my password is pass1234')\n",
    "#returns all the alphanumerical elements - note that it does not return the spaces or ? or - or + , only underscrore"
   ]
  },
  {
   "attachments": {},
   "cell_type": "markdown",
   "metadata": {},
   "source": [
    "## Password Validation in Python with REGEX \n",
    "\n",
    "You need to write a regex that will validate a password to make sure it meets the following criteria:\n",
    "\n",
    "- At least 8 characters\n",
    "- Uppercase letters: A-Z\n",
    "- Lowercase letters: a-z\n",
    "- numbers: 0-9\n",
    "- any special characters: @#$%^&+=\n",
    "\n",
    "Letters/numbers/special characters are optional\n"
   ]
  },
  {
   "cell_type": "code",
   "execution_count": 28,
   "metadata": {},
   "outputs": [],
   "source": [
    "import re\n",
    "# all the requirements are optional execept the number of characters that the password needs to be\n",
    "regex1 = '[A-Za-z0-9@#$%^&+=]{8,}'\n"
   ]
  },
  {
   "cell_type": "code",
   "execution_count": 29,
   "metadata": {},
   "outputs": [],
   "source": [
    "# pwd = input(\"enter a password\")\n",
    "pwd = 'hey123456'"
   ]
  },
  {
   "cell_type": "code",
   "execution_count": 30,
   "metadata": {},
   "outputs": [
    {
     "data": {
      "text/plain": [
       "'hey123456'"
      ]
     },
     "execution_count": 30,
     "metadata": {},
     "output_type": "execute_result"
    }
   ],
   "source": [
    "pwd"
   ]
  },
  {
   "cell_type": "code",
   "execution_count": 31,
   "metadata": {},
   "outputs": [
    {
     "data": {
      "text/plain": [
       "(str, str)"
      ]
     },
     "execution_count": 31,
     "metadata": {},
     "output_type": "execute_result"
    }
   ],
   "source": [
    "type(pwd), type(regex1)"
   ]
  },
  {
   "cell_type": "code",
   "execution_count": 32,
   "metadata": {},
   "outputs": [
    {
     "data": {
      "text/plain": [
       "<re.Match object; span=(0, 9), match='hey123456'>"
      ]
     },
     "execution_count": 32,
     "metadata": {},
     "output_type": "execute_result"
    }
   ],
   "source": [
    "re.fullmatch(regex1, pwd)"
   ]
  },
  {
   "cell_type": "code",
   "execution_count": 33,
   "metadata": {},
   "outputs": [
    {
     "name": "stdout",
     "output_type": "stream",
     "text": [
      "congratulations, there is a match!\n"
     ]
    }
   ],
   "source": [
    "if re.fullmatch(regex1,pwd):\n",
    "    print(\"congratulations, there is a match!\")\n",
    "else:\n",
    "    print(\"sorry there is no match\")"
   ]
  },
  {
   "attachments": {},
   "cell_type": "markdown",
   "metadata": {},
   "source": [
    "## Password Validation in Python with REGEX \n",
    "\n",
    "You need to write a regex that will validate a password to make sure it meets **ALL** the following criteria:\n",
    "\n",
    "- At least 6 characters long\n",
    "- Contains Uppercase letter: A-Z\n",
    "- Contains Lowercase letter: a-z\n",
    "- Contains number: 0-9\n",
    "- Contains any special characters: @#$%^&+=\n",
    "\n",
    "Valid password will only be alphanumeric characters.\n"
   ]
  },
  {
   "cell_type": "code",
   "execution_count": 34,
   "metadata": {},
   "outputs": [],
   "source": [
    "# assertions:\n",
    "\n",
    "# POSSITIVE LOOKAHEAD ASSERTION\n",
    "# An assertion in regex is when a match is possible in some way.\n",
    "# look at the string from left to right and search for a match.\n",
    "\n",
    "regex = '(?=.*[A-Z])(?=.*[a-z])(?=.*[0-9]{6,})'"
   ]
  },
  {
   "cell_type": "code",
   "execution_count": 35,
   "metadata": {},
   "outputs": [],
   "source": [
    "re.fullmatch(regex,pwd)\n",
    "\n",
    "#it has returned None\n"
   ]
  },
  {
   "cell_type": "code",
   "execution_count": 36,
   "metadata": {},
   "outputs": [
    {
     "name": "stdout",
     "output_type": "stream",
     "text": [
      "sorry no match\n"
     ]
    }
   ],
   "source": [
    "if re.fullmatch(regex,pwd):\n",
    "    print(\"match, yay!\")\n",
    "else:\n",
    "    print(\"sorry no match\")\n"
   ]
  },
  {
   "attachments": {},
   "cell_type": "markdown",
   "metadata": {},
   "source": [
    "## Task 4: User input \n",
    "\n",
    "**Time Format Validation**\n",
    "\n",
    "A web application calculates health statistic based on the sleep duration of your users. \n",
    "\n",
    "Your users enter the time they went to bed and the time they wake up. \n",
    "\n",
    "An example for a correct time format is 12:45\n",
    "\n",
    "Write a time-format checker that determines whether the input is worth processing further with your backend application.\n",
    "\n"
   ]
  },
  {
   "cell_type": "code",
   "execution_count": 37,
   "metadata": {},
   "outputs": [],
   "source": [
    "inputs = ['18:29', '23:55', '123', 'ab:de', '18:299', '99:99']"
   ]
  },
  {
   "cell_type": "code",
   "execution_count": 38,
   "metadata": {},
   "outputs": [],
   "source": [
    "input1 = '12:455'\n",
    "input2 = '12:48'"
   ]
  },
  {
   "cell_type": "code",
   "execution_count": 39,
   "metadata": {},
   "outputs": [],
   "source": [
    "re.fullmatch('[0-9]{2}:[0-9]{2}', input1)\n",
    "\n",
    "# returns None - meaning its not the correct format"
   ]
  },
  {
   "cell_type": "code",
   "execution_count": 40,
   "metadata": {},
   "outputs": [
    {
     "data": {
      "text/plain": [
       "<re.Match object; span=(0, 5), match='12:48'>"
      ]
     },
     "execution_count": 40,
     "metadata": {},
     "output_type": "execute_result"
    }
   ],
   "source": [
    "re.fullmatch('[0-9]{2}:[0-9]{2}', input2)"
   ]
  },
  {
   "cell_type": "code",
   "execution_count": 41,
   "metadata": {},
   "outputs": [
    {
     "data": {
      "text/plain": [
       "[<re.Match object; span=(0, 5), match='18:29'>,\n",
       " <re.Match object; span=(0, 5), match='23:55'>,\n",
       " None,\n",
       " None,\n",
       " None,\n",
       " <re.Match object; span=(0, 5), match='99:99'>]"
      ]
     },
     "execution_count": 41,
     "metadata": {},
     "output_type": "execute_result"
    }
   ],
   "source": [
    "[re.fullmatch('[0-9]{2}:[0-9]{2}', x) for x in inputs]"
   ]
  },
  {
   "attachments": {},
   "cell_type": "markdown",
   "metadata": {},
   "source": [
    "Next, the given time must be a valid time format in the 24-hour time ranging from 00:00 to 23:59"
   ]
  },
  {
   "cell_type": "code",
   "execution_count": 42,
   "metadata": {},
   "outputs": [],
   "source": [
    "# anything between 00 and 23\n",
    "regex = '([01][0-9]|2[0-3])'\n",
    "\n",
    "# first digit is either 0 or the second is between 0 and 9    OR   the first digit is either 2 and the second between 0 and 3\n"
   ]
  },
  {
   "cell_type": "code",
   "execution_count": 43,
   "metadata": {},
   "outputs": [],
   "source": [
    "# anything between 00:00 and 23:59\n",
    "regex = '([01][0-9]|2[0-3]):([0-5][0-9])'"
   ]
  },
  {
   "cell_type": "code",
   "execution_count": 44,
   "metadata": {},
   "outputs": [
    {
     "data": {
      "text/plain": [
       "[<re.Match object; span=(0, 5), match='18:29'>,\n",
       " <re.Match object; span=(0, 5), match='23:55'>,\n",
       " None,\n",
       " None,\n",
       " None,\n",
       " None]"
      ]
     },
     "execution_count": 44,
     "metadata": {},
     "output_type": "execute_result"
    }
   ],
   "source": [
    "[re.fullmatch(regex, x) for x in inputs]"
   ]
  },
  {
   "attachments": {},
   "cell_type": "markdown",
   "metadata": {},
   "source": [
    "## Email Validation "
   ]
  },
  {
   "cell_type": "code",
   "execution_count": 45,
   "metadata": {},
   "outputs": [],
   "source": [
    "inputs = ['rog45@gmail.com','r_duke78o@outlook.com','s.rog78o@outlook.com','r_duke78o@outlook.coma','s.rog78$o@outlook.com']"
   ]
  },
  {
   "cell_type": "code",
   "execution_count": 46,
   "metadata": {},
   "outputs": [],
   "source": [
    "regex = '^(\\w|\\.|\\_|\\-)+[@]\\w+[.]\\w{2,3}$'"
   ]
  },
  {
   "cell_type": "code",
   "execution_count": 47,
   "metadata": {},
   "outputs": [
    {
     "data": {
      "text/plain": [
       "[<re.Match object; span=(0, 15), match='rog45@gmail.com'>,\n",
       " <re.Match object; span=(0, 21), match='r_duke78o@outlook.com'>,\n",
       " <re.Match object; span=(0, 20), match='s.rog78o@outlook.com'>,\n",
       " None,\n",
       " None]"
      ]
     },
     "execution_count": 47,
     "metadata": {},
     "output_type": "execute_result"
    }
   ],
   "source": [
    "[re.fullmatch(regex, x) for x in inputs]"
   ]
  },
  {
   "cell_type": "code",
   "execution_count": 48,
   "metadata": {},
   "outputs": [],
   "source": [
    "string_e = 'From: steve_doe@outlook.com, alex.drake@hotmail.fr, olivia.Montana123@gmail.com'"
   ]
  },
  {
   "cell_type": "code",
   "execution_count": 49,
   "metadata": {},
   "outputs": [
    {
     "name": "stdout",
     "output_type": "stream",
     "text": [
      "['From: steve_doe@']\n"
     ]
    }
   ],
   "source": [
    "print(re.findall('From:.+?@',string_e))"
   ]
  },
  {
   "cell_type": "code",
   "execution_count": 50,
   "metadata": {},
   "outputs": [],
   "source": [
    "string_e2 = ['From: steve_doe@outlook.com', 'From: alex.drake@hotmail.fr', 'olivia.Montana123@gmail.com']"
   ]
  },
  {
   "cell_type": "code",
   "execution_count": 51,
   "metadata": {},
   "outputs": [
    {
     "data": {
      "text/plain": [
       "[['From: steve_doe@'], ['From: steve_doe@'], ['From: steve_doe@']]"
      ]
     },
     "execution_count": 51,
     "metadata": {},
     "output_type": "execute_result"
    }
   ],
   "source": [
    "[re.findall('From:.+?@',string_e) for x in string_e2]"
   ]
  },
  {
   "attachments": {},
   "cell_type": "markdown",
   "metadata": {},
   "source": [
    "## User validation"
   ]
  },
  {
   "attachments": {},
   "cell_type": "markdown",
   "metadata": {},
   "source": [
    "username is a character only allowing underscore _ and . only "
   ]
  },
  {
   "attachments": {},
   "cell_type": "markdown",
   "metadata": {},
   "source": []
  },
  {
   "cell_type": "code",
   "execution_count": 52,
   "metadata": {},
   "outputs": [],
   "source": [
    "name_inputs = ['a_roger','aroges','a.roger_de','a.roger_2']"
   ]
  },
  {
   "cell_type": "code",
   "execution_count": 53,
   "metadata": {},
   "outputs": [],
   "source": [
    "regex = '^[a-zA-Z_.]+$'"
   ]
  },
  {
   "cell_type": "code",
   "execution_count": 54,
   "metadata": {},
   "outputs": [
    {
     "data": {
      "text/plain": [
       "[<re.Match object; span=(0, 7), match='a_roger'>,\n",
       " <re.Match object; span=(0, 6), match='aroges'>,\n",
       " <re.Match object; span=(0, 10), match='a.roger_de'>,\n",
       " None]"
      ]
     },
     "execution_count": 54,
     "metadata": {},
     "output_type": "execute_result"
    }
   ],
   "source": [
    "[re.fullmatch(regex, x) for x in name_inputs]"
   ]
  },
  {
   "attachments": {},
   "cell_type": "markdown",
   "metadata": {},
   "source": [
    "### Task 5\n",
    "\n",
    "Questionmark ? is the 'option' regex meaning 0 or 1 occurance.\n",
    "\n",
    "Questionmark ? can also be used in combination with other special characters and means something else:\n",
    "\n",
    "asterisk * means 0 or more occurance of the preceding character\n",
    "\n",
    "By default, the engine returns 'more occurences' (greedy). If we want to force the 0 occurrences, we use ? after the * (non greedy)"
   ]
  },
  {
   "cell_type": "code",
   "execution_count": 57,
   "metadata": {},
   "outputs": [],
   "source": [
    "text = 'abdcefghujhg'"
   ]
  },
  {
   "cell_type": "code",
   "execution_count": 58,
   "metadata": {},
   "outputs": [
    {
     "data": {
      "text/plain": [
       "['abdcefghujhg']"
      ]
     },
     "execution_count": 58,
     "metadata": {},
     "output_type": "execute_result"
    }
   ],
   "source": [
    "re.findall('ab.*', text)"
   ]
  },
  {
   "cell_type": "code",
   "execution_count": 59,
   "metadata": {},
   "outputs": [
    {
     "data": {
      "text/plain": [
       "['ab']"
      ]
     },
     "execution_count": 59,
     "metadata": {},
     "output_type": "execute_result"
    }
   ],
   "source": [
    "re.findall('ab.*?', text)"
   ]
  },
  {
   "cell_type": "code",
   "execution_count": 61,
   "metadata": {},
   "outputs": [],
   "source": [
    "text2 = 'peter piper picked a peck of pickled peppers'"
   ]
  },
  {
   "cell_type": "code",
   "execution_count": 62,
   "metadata": {},
   "outputs": [
    {
     "data": {
      "text/plain": [
       "['peter piper picked a peck of pickled pepper']"
      ]
     },
     "execution_count": 62,
     "metadata": {},
     "output_type": "execute_result"
    }
   ],
   "source": [
    "re.findall('p.*e.*r', text2)"
   ]
  },
  {
   "cell_type": "code",
   "execution_count": 63,
   "metadata": {},
   "outputs": [
    {
     "data": {
      "text/plain": [
       "['peter', 'piper', 'picked a peck of pickled pepper']"
      ]
     },
     "execution_count": 63,
     "metadata": {},
     "output_type": "execute_result"
    }
   ],
   "source": [
    "re.findall('p.*?e.*?r', text2)"
   ]
  },
  {
   "attachments": {},
   "cell_type": "markdown",
   "metadata": {},
   "source": [
    "Problem 1:\n",
    "\n",
    "Find a match that starts with 'crypto', then matches at the most 30 arbitary characters and match ends when the last word is 'coin'"
   ]
  },
  {
   "cell_type": "code",
   "execution_count": 64,
   "metadata": {},
   "outputs": [],
   "source": [
    "text3 = 'crypto-bot that is trading Bitcoin and other currencies'"
   ]
  },
  {
   "cell_type": "code",
   "execution_count": 66,
   "metadata": {},
   "outputs": [
    {
     "data": {
      "text/plain": [
       "<re.Match object; span=(0, 34), match='crypto-bot that is trading Bitcoin'>"
      ]
     },
     "execution_count": 66,
     "metadata": {},
     "output_type": "execute_result"
    }
   ],
   "source": [
    "# the parenthesis creates a group of any character dot but from 1 to 30 at most\n",
    "re.match('crypto(.{1,30})coin', text3)"
   ]
  },
  {
   "attachments": {},
   "cell_type": "markdown",
   "metadata": {},
   "source": [
    "Problem 2:\n",
    "\n",
    "given a string, find a list of all occurences of dollar amounts with optional Regular Expressions decimal values"
   ]
  },
  {
   "cell_type": "code",
   "execution_count": 67,
   "metadata": {},
   "outputs": [],
   "source": [
    "text4 = '''\n",
    "If you invested $1 in the year 1801, you would have $18087791.41 today.\n",
    "This is a 7.967% return on investment.\n",
    "But if you invested only $0.25 in 1801 you would end up with $4521947.8525\n",
    "'''"
   ]
  },
  {
   "cell_type": "code",
   "execution_count": 73,
   "metadata": {},
   "outputs": [
    {
     "data": {
      "text/plain": [
       "[('$1', ''),\n",
       " ('$18087791.41', '.41'),\n",
       " ('$0.25', '.25'),\n",
       " ('$4521947.8525', '.8525')]"
      ]
     },
     "execution_count": 73,
     "metadata": {},
     "output_type": "execute_result"
    }
   ],
   "source": [
    "# because we want the dollar symbol but it is used as a wildcard and has a special meaning in regex expressions\n",
    "# we use a backlash to escape that - same for . period or dot\n",
    "re.findall('(\\$[0-9]+(\\.[0-9]*)?)',text4)"
   ]
  },
  {
   "attachments": {},
   "cell_type": "markdown",
   "metadata": {},
   "source": [
    "Proble 3:\n",
    "\n",
    "Replace Alice Wonderland with Alice Doe, but do not replace occurences of Alice Wonderland when you see single quotes. \n",
    "\n",
    "Introducing the '?!' Negative lookahead pattern\n"
   ]
  },
  {
   "cell_type": "code",
   "execution_count": 78,
   "metadata": {},
   "outputs": [],
   "source": [
    "text5 = \"\"\"\n",
    "Alice Wonderland married John Doe.\n",
    "The new name of former 'Alice Wonderland' is 'Alice Doe'.\n",
    "Alice Wonderland replaces her old name 'Wonderland' with her new name 'Doe'.\n",
    "Alice's sister Jane Wonderland still keeps her old name.\n",
    "\"\"\""
   ]
  },
  {
   "cell_type": "code",
   "execution_count": 79,
   "metadata": {},
   "outputs": [
    {
     "data": {
      "text/plain": [
       "\"\\nAlice Doe married John Doe.\\nThe new name of former 'Alice Wonderland' is 'Alice Doe'.\\nAlice Doe replaces her old name 'Wonderland' with her new name 'Doe'.\\nAlice's sister Jane Wonderland still keeps her old name.\\n\""
      ]
     },
     "execution_count": 79,
     "metadata": {},
     "output_type": "execute_result"
    }
   ],
   "source": [
    "re.sub(\"Alice Wonderland(?!')\",'Alice Doe', text5)"
   ]
  },
  {
   "attachments": {},
   "cell_type": "markdown",
   "metadata": {},
   "source": [
    "## Examples"
   ]
  },
  {
   "attachments": {},
   "cell_type": "markdown",
   "metadata": {},
   "source": [
    "\\d is for digits [0-9]"
   ]
  },
  {
   "cell_type": "code",
   "execution_count": null,
   "metadata": {},
   "outputs": [],
   "source": [
    "line = ['Three dollars is all', 'It will cost you $1.52', 'It will cost you 1.52 dollars']\n",
    "\n",
    "[re.search('\\$.+',x) for x in line]\n"
   ]
  },
  {
   "cell_type": "code",
   "execution_count": null,
   "metadata": {},
   "outputs": [],
   "source": [
    "# if re.search('^From:', line):\n",
    "#     print(line)\n",
    "\n",
    "# will print any line that starts with 'From'"
   ]
  },
  {
   "cell_type": "code",
   "execution_count": null,
   "metadata": {},
   "outputs": [],
   "source": []
  }
 ],
 "metadata": {
  "kernelspec": {
   "display_name": "Python 3",
   "language": "python",
   "name": "python3"
  },
  "language_info": {
   "codemirror_mode": {
    "name": "ipython",
    "version": 3
   },
   "file_extension": ".py",
   "mimetype": "text/x-python",
   "name": "python",
   "nbconvert_exporter": "python",
   "pygments_lexer": "ipython3",
   "version": "3.9.7"
  },
  "orig_nbformat": 4
 },
 "nbformat": 4,
 "nbformat_minor": 2
}
